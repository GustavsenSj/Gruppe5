{
 "cells": [
  {
   "cell_type": "code",
   "execution_count": 123,
   "metadata": {},
   "outputs": [
    {
     "name": "stdout",
     "output_type": "stream",
     "text": [
      "The sql extension is already loaded. To reload it, use:\n",
      "  %reload_ext sql\n"
     ]
    }
   ],
   "source": [
    "%load_ext sql\n"
   ]
  },
  {
   "cell_type": "code",
   "execution_count": 124,
   "metadata": {},
   "outputs": [
    {
     "data": {
      "text/plain": [
       "'Connected: @library.db'"
      ]
     },
     "execution_count": 124,
     "metadata": {},
     "output_type": "execute_result"
    }
   ],
   "source": [
    "%sql sqlite:///library.db"
   ]
  },
  {
   "cell_type": "markdown",
   "metadata": {},
   "source": [
    "**The following code creates the databases**"
   ]
  },
  {
   "cell_type": "code",
   "execution_count": 125,
   "metadata": {},
   "outputs": [
    {
     "name": "stdout",
     "output_type": "stream",
     "text": [
      " * sqlite:///library.db\n",
      "Done.\n",
      "Done.\n",
      "(sqlite3.OperationalError) near \"SET\": syntax error\n",
      "[SQL: SET NOCOUNT ON;]\n",
      "(Background on this error at: http://sqlalche.me/e/14/e3q8)\n"
     ]
    }
   ],
   "source": [
    "%%sql\n",
    "DROP TABLE IF EXISTS branches;\n",
    "CREATE TABLE branches (\n",
    "    branchID int NOT NULL,\n",
    "    name varchar(250) NOT NULL,\n",
    "    address varchar(250) NOT NULL,\n",
    "    PRIMARY KEY (branchID)\n",
    ");\n",
    "SET NOCOUNT ON;"
   ]
  },
  {
   "cell_type": "code",
   "execution_count": 126,
   "metadata": {},
   "outputs": [
    {
     "name": "stdout",
     "output_type": "stream",
     "text": [
      " * sqlite:///library.db\n",
      "Done.\n",
      "Done.\n",
      "(sqlite3.OperationalError) near \"SET\": syntax error\n",
      "[SQL: SET NOCOUNT ON;]\n",
      "(Background on this error at: http://sqlalche.me/e/14/e3q8)\n"
     ]
    }
   ],
   "source": [
    "%%sql\n",
    "DROP TABLE IF EXISTS books;\n",
    "CREATE TABLE books (\n",
    "    ISBN int NOT NULL,\n",
    "    title varchar(250) NOT NULL,\n",
    "    publisher varchar(250) NOT NULL,\n",
    "    PRIMARY KEY (ISBN)\n",
    ");\n",
    "SET NOCOUNT ON;"
   ]
  },
  {
   "cell_type": "code",
   "execution_count": 127,
   "metadata": {},
   "outputs": [
    {
     "name": "stdout",
     "output_type": "stream",
     "text": [
      " * sqlite:///library.db\n",
      "Done.\n",
      "Done.\n",
      "(sqlite3.OperationalError) near \"SET\": syntax error\n",
      "[SQL: SET NOCOUNT ON;]\n",
      "(Background on this error at: http://sqlalche.me/e/14/e3q8)\n"
     ]
    }
   ],
   "source": [
    "%%sql\n",
    "DROP TABLE IF EXISTS bookInSystem;\n",
    "CREATE TABLE bookInSystem (\n",
    "    bookID int NOT NULL,\n",
    "    branchID int NOT NULL,\n",
    "    authorID int NOT NULL,\n",
    "    ISBN int NOT NULL,\n",
    "    PRIMARY KEY (bookID),\n",
    "    FOREIGN KEY (branchID) REFERENCES branches(branchID)\n",
    "    FOREIGN KEY (authorID) REFERENCES authors(authorID)\n",
    "    FOREIGN KEY (ISBN) REFERENCES books(ISBN)\n",
    ");\n",
    "SET NOCOUNT ON;"
   ]
  },
  {
   "cell_type": "code",
   "execution_count": 128,
   "metadata": {},
   "outputs": [
    {
     "name": "stdout",
     "output_type": "stream",
     "text": [
      " * sqlite:///library.db\n",
      "Done.\n",
      "Done.\n",
      "(sqlite3.OperationalError) near \"SET\": syntax error\n",
      "[SQL: SET NOCOUNT ON;]\n",
      "(Background on this error at: http://sqlalche.me/e/14/e3q8)\n"
     ]
    }
   ],
   "source": [
    "%%sql\n",
    "DROP TABLE IF EXISTS authors;\n",
    "CREATE TABLE authors (\n",
    "    authorID int NOT NULL,\n",
    "    name varchar(250) NOT NULL,\n",
    "    PRIMARY KEY (authorID)\n",
    ");\n",
    "SET NOCOUNT ON;"
   ]
  },
  {
   "cell_type": "code",
   "execution_count": 129,
   "metadata": {},
   "outputs": [
    {
     "name": "stdout",
     "output_type": "stream",
     "text": [
      " * sqlite:///library.db\n",
      "Done.\n",
      "Done.\n",
      "(sqlite3.OperationalError) near \"SET\": syntax error\n",
      "[SQL: SET NOCOUNT ON;]\n",
      "(Background on this error at: http://sqlalche.me/e/14/e3q8)\n"
     ]
    }
   ],
   "source": [
    "%%sql\n",
    "DROP TABLE IF EXISTS borrowers;\n",
    "CREATE TABLE borrowers (\n",
    "    borrowerID int NOT NULL,\n",
    "    name varchar(255) NOT NULL,\n",
    "    address varchar(255),\n",
    "    phoneNumber int NOT NULL,\n",
    "    PRIMARY KEY (borrowerID)\n",
    ");\n",
    "\n",
    "SET NOCOUNT ON;"
   ]
  },
  {
   "cell_type": "code",
   "execution_count": 130,
   "metadata": {},
   "outputs": [
    {
     "name": "stdout",
     "output_type": "stream",
     "text": [
      " * sqlite:///library.db\n",
      "Done.\n",
      "Done.\n",
      "(sqlite3.OperationalError) near \"SET\": syntax error\n",
      "[SQL: SET NOCOUNT ON;]\n",
      "(Background on this error at: http://sqlalche.me/e/14/e3q8)\n"
     ]
    }
   ],
   "source": [
    "%%sql\n",
    "DROP TABLE if EXISTS loans;\n",
    "CREATE TABLE loans (\n",
    "    loansID int NOT NULL,\n",
    "    borrowerID int NOT NULL,\n",
    "    bookID int NOT NULL,\n",
    "    branchID int NOT NULL,\n",
    "    date date NOT NULL,\n",
    "    dueDate date NOT NULL,\n",
    "    PRIMARY KEY (loansID),\n",
    "    FOREIGN KEY (borrowerID) REFERENCES borrowers(borrowerID)\n",
    "    FOREIGN KEY (bookID) REFERENCES bookInSystem(bookID)\n",
    "    FOREIGN KEY (branchID) REFERENCES branches(branchID)\n",
    ");\n",
    "SET NOCOUNT ON;"
   ]
  },
  {
   "cell_type": "code",
   "execution_count": 131,
   "metadata": {},
   "outputs": [
    {
     "name": "stdout",
     "output_type": "stream",
     "text": [
      " * sqlite:///library.db\n",
      "Done.\n"
     ]
    },
    {
     "data": {
      "text/html": [
       "<table>\n",
       "    <thead>\n",
       "        <tr>\n",
       "            <th>cid</th>\n",
       "            <th>name</th>\n",
       "            <th>type</th>\n",
       "            <th>notnull</th>\n",
       "            <th>dflt_value</th>\n",
       "            <th>pk</th>\n",
       "        </tr>\n",
       "    </thead>\n",
       "    <tbody>\n",
       "        <tr>\n",
       "            <td>0</td>\n",
       "            <td>bookID</td>\n",
       "            <td>int</td>\n",
       "            <td>1</td>\n",
       "            <td>None</td>\n",
       "            <td>1</td>\n",
       "        </tr>\n",
       "        <tr>\n",
       "            <td>1</td>\n",
       "            <td>branchID</td>\n",
       "            <td>int</td>\n",
       "            <td>1</td>\n",
       "            <td>None</td>\n",
       "            <td>0</td>\n",
       "        </tr>\n",
       "        <tr>\n",
       "            <td>2</td>\n",
       "            <td>authorID</td>\n",
       "            <td>int</td>\n",
       "            <td>1</td>\n",
       "            <td>None</td>\n",
       "            <td>0</td>\n",
       "        </tr>\n",
       "        <tr>\n",
       "            <td>3</td>\n",
       "            <td>ISBN</td>\n",
       "            <td>int</td>\n",
       "            <td>1</td>\n",
       "            <td>None</td>\n",
       "            <td>0</td>\n",
       "        </tr>\n",
       "    </tbody>\n",
       "</table>"
      ],
      "text/plain": [
       "[(0, 'bookID', 'int', 1, None, 1),\n",
       " (1, 'branchID', 'int', 1, None, 0),\n",
       " (2, 'authorID', 'int', 1, None, 0),\n",
       " (3, 'ISBN', 'int', 1, None, 0)]"
      ]
     },
     "execution_count": 131,
     "metadata": {},
     "output_type": "execute_result"
    }
   ],
   "source": [
    "%sql PRAGMA table_info(bookInSystem);"
   ]
  },
  {
   "cell_type": "code",
   "execution_count": 132,
   "metadata": {},
   "outputs": [
    {
     "name": "stdout",
     "output_type": "stream",
     "text": [
      " * sqlite:///library.db\n",
      "Done.\n"
     ]
    },
    {
     "data": {
      "text/html": [
       "<table>\n",
       "    <thead>\n",
       "        <tr>\n",
       "            <th>cid</th>\n",
       "            <th>name</th>\n",
       "            <th>type</th>\n",
       "            <th>notnull</th>\n",
       "            <th>dflt_value</th>\n",
       "            <th>pk</th>\n",
       "        </tr>\n",
       "    </thead>\n",
       "    <tbody>\n",
       "        <tr>\n",
       "            <td>0</td>\n",
       "            <td>branchID</td>\n",
       "            <td>int</td>\n",
       "            <td>1</td>\n",
       "            <td>None</td>\n",
       "            <td>1</td>\n",
       "        </tr>\n",
       "        <tr>\n",
       "            <td>1</td>\n",
       "            <td>name</td>\n",
       "            <td>varchar(250)</td>\n",
       "            <td>1</td>\n",
       "            <td>None</td>\n",
       "            <td>0</td>\n",
       "        </tr>\n",
       "        <tr>\n",
       "            <td>2</td>\n",
       "            <td>address</td>\n",
       "            <td>varchar(250)</td>\n",
       "            <td>1</td>\n",
       "            <td>None</td>\n",
       "            <td>0</td>\n",
       "        </tr>\n",
       "    </tbody>\n",
       "</table>"
      ],
      "text/plain": [
       "[(0, 'branchID', 'int', 1, None, 1),\n",
       " (1, 'name', 'varchar(250)', 1, None, 0),\n",
       " (2, 'address', 'varchar(250)', 1, None, 0)]"
      ]
     },
     "execution_count": 132,
     "metadata": {},
     "output_type": "execute_result"
    }
   ],
   "source": [
    "%sql PRAGMA table_info(branches);"
   ]
  },
  {
   "cell_type": "code",
   "execution_count": 133,
   "metadata": {},
   "outputs": [
    {
     "name": "stdout",
     "output_type": "stream",
     "text": [
      " * sqlite:///library.db\n",
      "Done.\n"
     ]
    },
    {
     "data": {
      "text/html": [
       "<table>\n",
       "    <thead>\n",
       "        <tr>\n",
       "            <th>cid</th>\n",
       "            <th>name</th>\n",
       "            <th>type</th>\n",
       "            <th>notnull</th>\n",
       "            <th>dflt_value</th>\n",
       "            <th>pk</th>\n",
       "        </tr>\n",
       "    </thead>\n",
       "    <tbody>\n",
       "        <tr>\n",
       "            <td>0</td>\n",
       "            <td>borrowerID</td>\n",
       "            <td>int</td>\n",
       "            <td>1</td>\n",
       "            <td>None</td>\n",
       "            <td>1</td>\n",
       "        </tr>\n",
       "        <tr>\n",
       "            <td>1</td>\n",
       "            <td>name</td>\n",
       "            <td>varchar(255)</td>\n",
       "            <td>1</td>\n",
       "            <td>None</td>\n",
       "            <td>0</td>\n",
       "        </tr>\n",
       "        <tr>\n",
       "            <td>2</td>\n",
       "            <td>address</td>\n",
       "            <td>varchar(255)</td>\n",
       "            <td>0</td>\n",
       "            <td>None</td>\n",
       "            <td>0</td>\n",
       "        </tr>\n",
       "        <tr>\n",
       "            <td>3</td>\n",
       "            <td>phoneNumber</td>\n",
       "            <td>int</td>\n",
       "            <td>1</td>\n",
       "            <td>None</td>\n",
       "            <td>0</td>\n",
       "        </tr>\n",
       "    </tbody>\n",
       "</table>"
      ],
      "text/plain": [
       "[(0, 'borrowerID', 'int', 1, None, 1),\n",
       " (1, 'name', 'varchar(255)', 1, None, 0),\n",
       " (2, 'address', 'varchar(255)', 0, None, 0),\n",
       " (3, 'phoneNumber', 'int', 1, None, 0)]"
      ]
     },
     "execution_count": 133,
     "metadata": {},
     "output_type": "execute_result"
    }
   ],
   "source": [
    "%sql PRAGMA table_info(borrowers);"
   ]
  },
  {
   "cell_type": "code",
   "execution_count": 134,
   "metadata": {},
   "outputs": [
    {
     "name": "stdout",
     "output_type": "stream",
     "text": [
      " * sqlite:///library.db\n",
      "Done.\n"
     ]
    },
    {
     "data": {
      "text/html": [
       "<table>\n",
       "    <thead>\n",
       "        <tr>\n",
       "            <th>cid</th>\n",
       "            <th>name</th>\n",
       "            <th>type</th>\n",
       "            <th>notnull</th>\n",
       "            <th>dflt_value</th>\n",
       "            <th>pk</th>\n",
       "        </tr>\n",
       "    </thead>\n",
       "    <tbody>\n",
       "        <tr>\n",
       "            <td>0</td>\n",
       "            <td>loansID</td>\n",
       "            <td>int</td>\n",
       "            <td>1</td>\n",
       "            <td>None</td>\n",
       "            <td>1</td>\n",
       "        </tr>\n",
       "        <tr>\n",
       "            <td>1</td>\n",
       "            <td>borrowerID</td>\n",
       "            <td>int</td>\n",
       "            <td>1</td>\n",
       "            <td>None</td>\n",
       "            <td>0</td>\n",
       "        </tr>\n",
       "        <tr>\n",
       "            <td>2</td>\n",
       "            <td>bookID</td>\n",
       "            <td>int</td>\n",
       "            <td>1</td>\n",
       "            <td>None</td>\n",
       "            <td>0</td>\n",
       "        </tr>\n",
       "        <tr>\n",
       "            <td>3</td>\n",
       "            <td>branchID</td>\n",
       "            <td>int</td>\n",
       "            <td>1</td>\n",
       "            <td>None</td>\n",
       "            <td>0</td>\n",
       "        </tr>\n",
       "        <tr>\n",
       "            <td>4</td>\n",
       "            <td>date</td>\n",
       "            <td>date</td>\n",
       "            <td>1</td>\n",
       "            <td>None</td>\n",
       "            <td>0</td>\n",
       "        </tr>\n",
       "        <tr>\n",
       "            <td>5</td>\n",
       "            <td>dueDate</td>\n",
       "            <td>date</td>\n",
       "            <td>1</td>\n",
       "            <td>None</td>\n",
       "            <td>0</td>\n",
       "        </tr>\n",
       "    </tbody>\n",
       "</table>"
      ],
      "text/plain": [
       "[(0, 'loansID', 'int', 1, None, 1),\n",
       " (1, 'borrowerID', 'int', 1, None, 0),\n",
       " (2, 'bookID', 'int', 1, None, 0),\n",
       " (3, 'branchID', 'int', 1, None, 0),\n",
       " (4, 'date', 'date', 1, None, 0),\n",
       " (5, 'dueDate', 'date', 1, None, 0)]"
      ]
     },
     "execution_count": 134,
     "metadata": {},
     "output_type": "execute_result"
    }
   ],
   "source": [
    "%sql PRAGMA table_info(loans);"
   ]
  },
  {
   "cell_type": "code",
   "execution_count": 135,
   "metadata": {},
   "outputs": [
    {
     "name": "stdout",
     "output_type": "stream",
     "text": [
      " * sqlite:///library.db\n",
      "10 rows affected.\n",
      "(sqlite3.OperationalError) near \"SET\": syntax error\n",
      "[SQL: SET NOCOUNT ON;]\n",
      "(Background on this error at: http://sqlalche.me/e/14/e3q8)\n"
     ]
    }
   ],
   "source": [
    "%%sql\n",
    "INSERT INTO branches (branchID, name, address)\n",
    "VALUES ('11111', 'A1', 'Oslogata'),\n",
    "('11112', 'A2', 'Alesundgata'),\n",
    "('11113', 'A3', 'Bergengata'),\n",
    "('11114', 'A4', 'Altagada'),\n",
    "('11115', 'A5', 'Moldegata'),\n",
    "('11116', 'A6', 'Hammerfestgata'),\n",
    "('11117', 'A7', 'Tromsøgata'),\n",
    "('11118', 'A8', 'Eidgata'),\n",
    "('11119', 'A9', 'Trondheimgata'),\n",
    "('11110', 'A10', 'Stavangergata');\n",
    "SET NOCOUNT ON; "
   ]
  },
  {
   "cell_type": "code",
   "execution_count": 136,
   "metadata": {},
   "outputs": [
    {
     "name": "stdout",
     "output_type": "stream",
     "text": [
      " * sqlite:///library.db\n",
      "10 rows affected.\n",
      "(sqlite3.OperationalError) near \"SET\": syntax error\n",
      "[SQL: SET NOCOUNT ON;]\n",
      "(Background on this error at: http://sqlalche.me/e/14/e3q8)\n"
     ]
    }
   ],
   "source": [
    "%%sql\n",
    "INSERT INTO books(ISBN, title, publisher)\n",
    "VALUES ('755', 'bok1', 'NTNU'),\n",
    "('567', 'bok2', 'NTNU'),\n",
    "('357', 'bok3', 'NTNU'),\n",
    "('367', 'bok4', 'NTNU'),\n",
    "('742', 'bok5', 'NTNU'),\n",
    "('236', 'bok6', 'NTNU'),\n",
    "('945', 'bok7', 'NTNU'),\n",
    "('684', 'bok8', 'NTNU'),\n",
    "('326', 'bok9', 'NTNU'),\n",
    "('197', 'bok10', 'NTNU');\n",
    "SET NOCOUNT ON;"
   ]
  },
  {
   "cell_type": "code",
   "execution_count": 137,
   "metadata": {},
   "outputs": [
    {
     "name": "stdout",
     "output_type": "stream",
     "text": [
      " * sqlite:///library.db\n",
      "10 rows affected.\n",
      "(sqlite3.OperationalError) near \"SET\": syntax error\n",
      "[SQL: SET NOCOUNT ON;]\n",
      "(Background on this error at: http://sqlalche.me/e/14/e3q8)\n"
     ]
    }
   ],
   "source": [
    "%%sql\n",
    "INSERT INTO authors(authorID, name)\n",
    "VALUES('01', 'author1'),\n",
    "('02', 'author2'),\n",
    "('03', 'author3'),\n",
    "('04', 'author4'),\n",
    "('05', 'author5'),\n",
    "('06', 'author6'),\n",
    "('07', 'author7'),\n",
    "('08', 'author8'),\n",
    "('09', 'author9'),\n",
    "('10', 'author10');\n",
    "SET NOCOUNT ON; "
   ]
  },
  {
   "cell_type": "code",
   "execution_count": 138,
   "metadata": {},
   "outputs": [
    {
     "name": "stdout",
     "output_type": "stream",
     "text": [
      " * sqlite:///library.db\n",
      "11 rows affected.\n",
      "(sqlite3.OperationalError) near \"SET\": syntax error\n",
      "[SQL: SET NOCOUNT ON;]\n",
      "(Background on this error at: http://sqlalche.me/e/14/e3q8)\n"
     ]
    }
   ],
   "source": [
    "%%sql\n",
    "INSERT INTO bookInSystem (bookID, ISBN, branchID, authorID)\n",
    "VALUES ('10', '755', '11111', '01'),\n",
    "('11', '357', '11112', '02'),\n",
    "('12', '357', '11113', '03'),\n",
    "('13', '367', '11114', '04'),\n",
    "('14', '742', '11115', '05'),\n",
    "('15', '236', '11116', '06'),\n",
    "('16', '945', '11117', '07'),\n",
    "('17', '684', '11118', '08'),\n",
    "('18', '326', '11119', '09'),\n",
    "('09', '197', '11110', '10'),\n",
    "('20', '755', '11111', '01');\n",
    "SET NOCOUNT ON; "
   ]
  },
  {
   "cell_type": "code",
   "execution_count": 139,
   "metadata": {},
   "outputs": [
    {
     "name": "stdout",
     "output_type": "stream",
     "text": [
      " * sqlite:///library.db\n",
      "10 rows affected.\n",
      "(sqlite3.OperationalError) near \"SET\": syntax error\n",
      "[SQL: SET NOCOUNT ON;]\n",
      "(Background on this error at: http://sqlalche.me/e/14/e3q8)\n"
     ]
    }
   ],
   "source": [
    "%%sql\n",
    "INSERT INTO borrowers (borrowerID, name, address, phoneNumber)\n",
    "VALUES ('1', 'Sjur', 'Oslo', '46634708'),\n",
    "('2', 'Mathias', 'Borte', '46634709'),\n",
    "('3', 'Hans', 'Alta', '46634707'),\n",
    "('4', 'Michal', 'Stavanger', '46634706'),\n",
    "('5', 'Per', 'Ålesund', '46634705'),\n",
    "('6', 'Pål', 'Bergen', '46634704'),\n",
    "('7', 'Arne', 'Trondheim', '46634703'),\n",
    "('8', 'Peder', 'Tromsø', '46634702'),\n",
    "('9', 'Knut', 'Hammerfest', '46634701'),\n",
    "('10', 'Sebastian', 'Eid', '46634710');\n",
    "SET NOCOUNT ON;"
   ]
  },
  {
   "cell_type": "code",
   "execution_count": 140,
   "metadata": {},
   "outputs": [
    {
     "name": "stdout",
     "output_type": "stream",
     "text": [
      " * sqlite:///library.db\n",
      "10 rows affected.\n",
      "(sqlite3.OperationalError) near \"SET\": syntax error\n",
      "[SQL: SET NOCOUNT ON;]\n",
      "(Background on this error at: http://sqlalche.me/e/14/e3q8)\n"
     ]
    }
   ],
   "source": [
    "%%sql\n",
    "INSERT INTO loans (loansID, borrowerID, bookID, branchID, date, dueDate)\n",
    "VALUES ('123', '1', '09','11111', '2021-02-21', '2021-11-11'),\n",
    "('111', '2', '10','11111','2021-03-19', '2021-08-19'),\n",
    "('132', '1', '11','11113','2021-03-19', '2021-11-11'),\n",
    "('222', '2', '12','11111', '2022-01-01', '2022-06-01'),\n",
    "('887', '3', '13','11112', '2021-07-09','2021-11-30'),\n",
    "('877', '5', '14','11114', '2021-07-09','2021-06-10'),\n",
    "('866', '7', '15','11113', '2021-07-09','2021-12-08'),\n",
    "('855', '4', '16','11116', '2021-07-09','2021-02-12'),\n",
    "('844', '8', '17','11119', '2021-07-09','2021-02-26'),\n",
    "('833', '9', '18','11118', '2021-07-09','2021-12-01');\n",
    "SET NOCOUNT ON; "
   ]
  },
  {
   "cell_type": "code",
   "execution_count": 141,
   "metadata": {},
   "outputs": [
    {
     "name": "stdout",
     "output_type": "stream",
     "text": [
      " * sqlite:///library.db\n",
      "Done.\n"
     ]
    },
    {
     "data": {
      "text/html": [
       "<table>\n",
       "    <thead>\n",
       "        <tr>\n",
       "            <th>branchID</th>\n",
       "            <th>name</th>\n",
       "            <th>address</th>\n",
       "        </tr>\n",
       "    </thead>\n",
       "    <tbody>\n",
       "        <tr>\n",
       "            <td>11111</td>\n",
       "            <td>A1</td>\n",
       "            <td>Oslogata</td>\n",
       "        </tr>\n",
       "        <tr>\n",
       "            <td>11112</td>\n",
       "            <td>A2</td>\n",
       "            <td>Alesundgata</td>\n",
       "        </tr>\n",
       "        <tr>\n",
       "            <td>11113</td>\n",
       "            <td>A3</td>\n",
       "            <td>Bergengata</td>\n",
       "        </tr>\n",
       "        <tr>\n",
       "            <td>11114</td>\n",
       "            <td>A4</td>\n",
       "            <td>Altagada</td>\n",
       "        </tr>\n",
       "        <tr>\n",
       "            <td>11115</td>\n",
       "            <td>A5</td>\n",
       "            <td>Moldegata</td>\n",
       "        </tr>\n",
       "        <tr>\n",
       "            <td>11116</td>\n",
       "            <td>A6</td>\n",
       "            <td>Hammerfestgata</td>\n",
       "        </tr>\n",
       "        <tr>\n",
       "            <td>11117</td>\n",
       "            <td>A7</td>\n",
       "            <td>Tromsøgata</td>\n",
       "        </tr>\n",
       "        <tr>\n",
       "            <td>11118</td>\n",
       "            <td>A8</td>\n",
       "            <td>Eidgata</td>\n",
       "        </tr>\n",
       "        <tr>\n",
       "            <td>11119</td>\n",
       "            <td>A9</td>\n",
       "            <td>Trondheimgata</td>\n",
       "        </tr>\n",
       "        <tr>\n",
       "            <td>11110</td>\n",
       "            <td>A10</td>\n",
       "            <td>Stavangergata</td>\n",
       "        </tr>\n",
       "    </tbody>\n",
       "</table>"
      ],
      "text/plain": [
       "[(11111, 'A1', 'Oslogata'),\n",
       " (11112, 'A2', 'Alesundgata'),\n",
       " (11113, 'A3', 'Bergengata'),\n",
       " (11114, 'A4', 'Altagada'),\n",
       " (11115, 'A5', 'Moldegata'),\n",
       " (11116, 'A6', 'Hammerfestgata'),\n",
       " (11117, 'A7', 'Tromsøgata'),\n",
       " (11118, 'A8', 'Eidgata'),\n",
       " (11119, 'A9', 'Trondheimgata'),\n",
       " (11110, 'A10', 'Stavangergata')]"
      ]
     },
     "execution_count": 141,
     "metadata": {},
     "output_type": "execute_result"
    }
   ],
   "source": [
    "%sql SELECT * FROM branches;"
   ]
  },
  {
   "cell_type": "code",
   "execution_count": 142,
   "metadata": {},
   "outputs": [
    {
     "name": "stdout",
     "output_type": "stream",
     "text": [
      " * sqlite:///library.db\n",
      "Done.\n"
     ]
    },
    {
     "data": {
      "text/html": [
       "<table>\n",
       "    <thead>\n",
       "        <tr>\n",
       "            <th>ISBN</th>\n",
       "            <th>title</th>\n",
       "            <th>publisher</th>\n",
       "        </tr>\n",
       "    </thead>\n",
       "    <tbody>\n",
       "        <tr>\n",
       "            <td>755</td>\n",
       "            <td>bok1</td>\n",
       "            <td>NTNU</td>\n",
       "        </tr>\n",
       "        <tr>\n",
       "            <td>567</td>\n",
       "            <td>bok2</td>\n",
       "            <td>NTNU</td>\n",
       "        </tr>\n",
       "        <tr>\n",
       "            <td>357</td>\n",
       "            <td>bok3</td>\n",
       "            <td>NTNU</td>\n",
       "        </tr>\n",
       "        <tr>\n",
       "            <td>367</td>\n",
       "            <td>bok4</td>\n",
       "            <td>NTNU</td>\n",
       "        </tr>\n",
       "        <tr>\n",
       "            <td>742</td>\n",
       "            <td>bok5</td>\n",
       "            <td>NTNU</td>\n",
       "        </tr>\n",
       "        <tr>\n",
       "            <td>236</td>\n",
       "            <td>bok6</td>\n",
       "            <td>NTNU</td>\n",
       "        </tr>\n",
       "        <tr>\n",
       "            <td>945</td>\n",
       "            <td>bok7</td>\n",
       "            <td>NTNU</td>\n",
       "        </tr>\n",
       "        <tr>\n",
       "            <td>684</td>\n",
       "            <td>bok8</td>\n",
       "            <td>NTNU</td>\n",
       "        </tr>\n",
       "        <tr>\n",
       "            <td>326</td>\n",
       "            <td>bok9</td>\n",
       "            <td>NTNU</td>\n",
       "        </tr>\n",
       "        <tr>\n",
       "            <td>197</td>\n",
       "            <td>bok10</td>\n",
       "            <td>NTNU</td>\n",
       "        </tr>\n",
       "    </tbody>\n",
       "</table>"
      ],
      "text/plain": [
       "[(755, 'bok1', 'NTNU'),\n",
       " (567, 'bok2', 'NTNU'),\n",
       " (357, 'bok3', 'NTNU'),\n",
       " (367, 'bok4', 'NTNU'),\n",
       " (742, 'bok5', 'NTNU'),\n",
       " (236, 'bok6', 'NTNU'),\n",
       " (945, 'bok7', 'NTNU'),\n",
       " (684, 'bok8', 'NTNU'),\n",
       " (326, 'bok9', 'NTNU'),\n",
       " (197, 'bok10', 'NTNU')]"
      ]
     },
     "execution_count": 142,
     "metadata": {},
     "output_type": "execute_result"
    }
   ],
   "source": [
    "%sql SELECT * FROM books"
   ]
  },
  {
   "cell_type": "code",
   "execution_count": 143,
   "metadata": {},
   "outputs": [
    {
     "name": "stdout",
     "output_type": "stream",
     "text": [
      " * sqlite:///library.db\n",
      "Done.\n"
     ]
    },
    {
     "data": {
      "text/html": [
       "<table>\n",
       "    <thead>\n",
       "        <tr>\n",
       "            <th>bookID</th>\n",
       "            <th>branchID</th>\n",
       "            <th>authorID</th>\n",
       "            <th>ISBN</th>\n",
       "        </tr>\n",
       "    </thead>\n",
       "    <tbody>\n",
       "        <tr>\n",
       "            <td>10</td>\n",
       "            <td>11111</td>\n",
       "            <td>1</td>\n",
       "            <td>755</td>\n",
       "        </tr>\n",
       "        <tr>\n",
       "            <td>11</td>\n",
       "            <td>11112</td>\n",
       "            <td>2</td>\n",
       "            <td>357</td>\n",
       "        </tr>\n",
       "        <tr>\n",
       "            <td>12</td>\n",
       "            <td>11113</td>\n",
       "            <td>3</td>\n",
       "            <td>357</td>\n",
       "        </tr>\n",
       "        <tr>\n",
       "            <td>13</td>\n",
       "            <td>11114</td>\n",
       "            <td>4</td>\n",
       "            <td>367</td>\n",
       "        </tr>\n",
       "        <tr>\n",
       "            <td>14</td>\n",
       "            <td>11115</td>\n",
       "            <td>5</td>\n",
       "            <td>742</td>\n",
       "        </tr>\n",
       "        <tr>\n",
       "            <td>15</td>\n",
       "            <td>11116</td>\n",
       "            <td>6</td>\n",
       "            <td>236</td>\n",
       "        </tr>\n",
       "        <tr>\n",
       "            <td>16</td>\n",
       "            <td>11117</td>\n",
       "            <td>7</td>\n",
       "            <td>945</td>\n",
       "        </tr>\n",
       "        <tr>\n",
       "            <td>17</td>\n",
       "            <td>11118</td>\n",
       "            <td>8</td>\n",
       "            <td>684</td>\n",
       "        </tr>\n",
       "        <tr>\n",
       "            <td>18</td>\n",
       "            <td>11119</td>\n",
       "            <td>9</td>\n",
       "            <td>326</td>\n",
       "        </tr>\n",
       "        <tr>\n",
       "            <td>9</td>\n",
       "            <td>11110</td>\n",
       "            <td>10</td>\n",
       "            <td>197</td>\n",
       "        </tr>\n",
       "        <tr>\n",
       "            <td>20</td>\n",
       "            <td>11111</td>\n",
       "            <td>1</td>\n",
       "            <td>755</td>\n",
       "        </tr>\n",
       "    </tbody>\n",
       "</table>"
      ],
      "text/plain": [
       "[(10, 11111, 1, 755),\n",
       " (11, 11112, 2, 357),\n",
       " (12, 11113, 3, 357),\n",
       " (13, 11114, 4, 367),\n",
       " (14, 11115, 5, 742),\n",
       " (15, 11116, 6, 236),\n",
       " (16, 11117, 7, 945),\n",
       " (17, 11118, 8, 684),\n",
       " (18, 11119, 9, 326),\n",
       " (9, 11110, 10, 197),\n",
       " (20, 11111, 1, 755)]"
      ]
     },
     "execution_count": 143,
     "metadata": {},
     "output_type": "execute_result"
    }
   ],
   "source": [
    "%sql SELECT * FROM bookInSystem"
   ]
  },
  {
   "cell_type": "code",
   "execution_count": 144,
   "metadata": {},
   "outputs": [
    {
     "name": "stdout",
     "output_type": "stream",
     "text": [
      " * sqlite:///library.db\n",
      "Done.\n"
     ]
    },
    {
     "data": {
      "text/html": [
       "<table>\n",
       "    <thead>\n",
       "        <tr>\n",
       "            <th>borrowerID</th>\n",
       "            <th>name</th>\n",
       "            <th>address</th>\n",
       "            <th>phoneNumber</th>\n",
       "        </tr>\n",
       "    </thead>\n",
       "    <tbody>\n",
       "        <tr>\n",
       "            <td>1</td>\n",
       "            <td>Sjur</td>\n",
       "            <td>Oslo</td>\n",
       "            <td>46634708</td>\n",
       "        </tr>\n",
       "        <tr>\n",
       "            <td>2</td>\n",
       "            <td>Mathias</td>\n",
       "            <td>Borte</td>\n",
       "            <td>46634709</td>\n",
       "        </tr>\n",
       "        <tr>\n",
       "            <td>3</td>\n",
       "            <td>Hans</td>\n",
       "            <td>Alta</td>\n",
       "            <td>46634707</td>\n",
       "        </tr>\n",
       "        <tr>\n",
       "            <td>4</td>\n",
       "            <td>Michal</td>\n",
       "            <td>Stavanger</td>\n",
       "            <td>46634706</td>\n",
       "        </tr>\n",
       "        <tr>\n",
       "            <td>5</td>\n",
       "            <td>Per</td>\n",
       "            <td>Ålesund</td>\n",
       "            <td>46634705</td>\n",
       "        </tr>\n",
       "        <tr>\n",
       "            <td>6</td>\n",
       "            <td>Pål</td>\n",
       "            <td>Bergen</td>\n",
       "            <td>46634704</td>\n",
       "        </tr>\n",
       "        <tr>\n",
       "            <td>7</td>\n",
       "            <td>Arne</td>\n",
       "            <td>Trondheim</td>\n",
       "            <td>46634703</td>\n",
       "        </tr>\n",
       "        <tr>\n",
       "            <td>8</td>\n",
       "            <td>Peder</td>\n",
       "            <td>Tromsø</td>\n",
       "            <td>46634702</td>\n",
       "        </tr>\n",
       "        <tr>\n",
       "            <td>9</td>\n",
       "            <td>Knut</td>\n",
       "            <td>Hammerfest</td>\n",
       "            <td>46634701</td>\n",
       "        </tr>\n",
       "        <tr>\n",
       "            <td>10</td>\n",
       "            <td>Sebastian</td>\n",
       "            <td>Eid</td>\n",
       "            <td>46634710</td>\n",
       "        </tr>\n",
       "    </tbody>\n",
       "</table>"
      ],
      "text/plain": [
       "[(1, 'Sjur', 'Oslo', 46634708),\n",
       " (2, 'Mathias', 'Borte', 46634709),\n",
       " (3, 'Hans', 'Alta', 46634707),\n",
       " (4, 'Michal', 'Stavanger', 46634706),\n",
       " (5, 'Per', 'Ålesund', 46634705),\n",
       " (6, 'Pål', 'Bergen', 46634704),\n",
       " (7, 'Arne', 'Trondheim', 46634703),\n",
       " (8, 'Peder', 'Tromsø', 46634702),\n",
       " (9, 'Knut', 'Hammerfest', 46634701),\n",
       " (10, 'Sebastian', 'Eid', 46634710)]"
      ]
     },
     "execution_count": 144,
     "metadata": {},
     "output_type": "execute_result"
    }
   ],
   "source": [
    "%sql SELECT * FROM borrowers"
   ]
  },
  {
   "cell_type": "code",
   "execution_count": 145,
   "metadata": {},
   "outputs": [
    {
     "name": "stdout",
     "output_type": "stream",
     "text": [
      " * sqlite:///library.db\n",
      "Done.\n"
     ]
    },
    {
     "data": {
      "text/html": [
       "<table>\n",
       "    <thead>\n",
       "        <tr>\n",
       "            <th>loansID</th>\n",
       "            <th>borrowerID</th>\n",
       "            <th>bookID</th>\n",
       "            <th>branchID</th>\n",
       "            <th>date</th>\n",
       "            <th>dueDate</th>\n",
       "        </tr>\n",
       "    </thead>\n",
       "    <tbody>\n",
       "        <tr>\n",
       "            <td>123</td>\n",
       "            <td>1</td>\n",
       "            <td>9</td>\n",
       "            <td>11111</td>\n",
       "            <td>2021-02-21</td>\n",
       "            <td>2021-11-11</td>\n",
       "        </tr>\n",
       "        <tr>\n",
       "            <td>111</td>\n",
       "            <td>2</td>\n",
       "            <td>10</td>\n",
       "            <td>11111</td>\n",
       "            <td>2021-03-19</td>\n",
       "            <td>2021-08-19</td>\n",
       "        </tr>\n",
       "        <tr>\n",
       "            <td>132</td>\n",
       "            <td>1</td>\n",
       "            <td>11</td>\n",
       "            <td>11113</td>\n",
       "            <td>2021-03-19</td>\n",
       "            <td>2021-11-11</td>\n",
       "        </tr>\n",
       "        <tr>\n",
       "            <td>222</td>\n",
       "            <td>2</td>\n",
       "            <td>12</td>\n",
       "            <td>11111</td>\n",
       "            <td>2022-01-01</td>\n",
       "            <td>2022-06-01</td>\n",
       "        </tr>\n",
       "        <tr>\n",
       "            <td>887</td>\n",
       "            <td>3</td>\n",
       "            <td>13</td>\n",
       "            <td>11112</td>\n",
       "            <td>2021-07-09</td>\n",
       "            <td>2021-11-30</td>\n",
       "        </tr>\n",
       "        <tr>\n",
       "            <td>877</td>\n",
       "            <td>5</td>\n",
       "            <td>14</td>\n",
       "            <td>11114</td>\n",
       "            <td>2021-07-09</td>\n",
       "            <td>2021-06-10</td>\n",
       "        </tr>\n",
       "        <tr>\n",
       "            <td>866</td>\n",
       "            <td>7</td>\n",
       "            <td>15</td>\n",
       "            <td>11113</td>\n",
       "            <td>2021-07-09</td>\n",
       "            <td>2021-12-08</td>\n",
       "        </tr>\n",
       "        <tr>\n",
       "            <td>855</td>\n",
       "            <td>4</td>\n",
       "            <td>16</td>\n",
       "            <td>11116</td>\n",
       "            <td>2021-07-09</td>\n",
       "            <td>2021-02-12</td>\n",
       "        </tr>\n",
       "        <tr>\n",
       "            <td>844</td>\n",
       "            <td>8</td>\n",
       "            <td>17</td>\n",
       "            <td>11119</td>\n",
       "            <td>2021-07-09</td>\n",
       "            <td>2021-02-26</td>\n",
       "        </tr>\n",
       "        <tr>\n",
       "            <td>833</td>\n",
       "            <td>9</td>\n",
       "            <td>18</td>\n",
       "            <td>11118</td>\n",
       "            <td>2021-07-09</td>\n",
       "            <td>2021-12-01</td>\n",
       "        </tr>\n",
       "    </tbody>\n",
       "</table>"
      ],
      "text/plain": [
       "[(123, 1, 9, 11111, '2021-02-21', '2021-11-11'),\n",
       " (111, 2, 10, 11111, '2021-03-19', '2021-08-19'),\n",
       " (132, 1, 11, 11113, '2021-03-19', '2021-11-11'),\n",
       " (222, 2, 12, 11111, '2022-01-01', '2022-06-01'),\n",
       " (887, 3, 13, 11112, '2021-07-09', '2021-11-30'),\n",
       " (877, 5, 14, 11114, '2021-07-09', '2021-06-10'),\n",
       " (866, 7, 15, 11113, '2021-07-09', '2021-12-08'),\n",
       " (855, 4, 16, 11116, '2021-07-09', '2021-02-12'),\n",
       " (844, 8, 17, 11119, '2021-07-09', '2021-02-26'),\n",
       " (833, 9, 18, 11118, '2021-07-09', '2021-12-01')]"
      ]
     },
     "execution_count": 145,
     "metadata": {},
     "output_type": "execute_result"
    }
   ],
   "source": [
    "%sql SELECT * FROM loans"
   ]
  },
  {
   "cell_type": "markdown",
   "metadata": {},
   "source": [
    "**How many copies of the book titled \"A\" and published by \"B\" are owned by the library branch whose address is \"C\"?**"
   ]
  },
  {
   "cell_type": "code",
   "execution_count": 146,
   "metadata": {},
   "outputs": [
    {
     "name": "stdout",
     "output_type": "stream",
     "text": [
      " * sqlite:///library.db\n",
      "Done.\n"
     ]
    },
    {
     "data": {
      "text/html": [
       "<table>\n",
       "    <thead>\n",
       "        <tr>\n",
       "            <th>Copies</th>\n",
       "        </tr>\n",
       "    </thead>\n",
       "    <tbody>\n",
       "        <tr>\n",
       "            <td>2</td>\n",
       "        </tr>\n",
       "    </tbody>\n",
       "</table>"
      ],
      "text/plain": [
       "[(2,)]"
      ]
     },
     "execution_count": 146,
     "metadata": {},
     "output_type": "execute_result"
    }
   ],
   "source": [
    "%%sql\n",
    "SELECT COUNT(*) AS Copies\n",
    "FROM bookInSystem\n",
    "INNER JOIN books USING(ISBN)\n",
    "INNER JOIN branches USING(branchID)\n",
    "WHERE title = \"bok1\" AND publisher = 'NTNU' AND address = 'Oslogata';"
   ]
  },
  {
   "cell_type": "markdown",
   "metadata": {},
   "source": [
    "**How many copies of the book titled \"A\" are owned by each library branch?**"
   ]
  },
  {
   "cell_type": "code",
   "execution_count": 153,
   "metadata": {},
   "outputs": [
    {
     "name": "stdout",
     "output_type": "stream",
     "text": [
      " * sqlite:///library.db\n",
      "Done.\n"
     ]
    },
    {
     "data": {
      "text/html": [
       "<table>\n",
       "    <thead>\n",
       "        <tr>\n",
       "            <th>COUNT(*)</th>\n",
       "            <th>name</th>\n",
       "        </tr>\n",
       "    </thead>\n",
       "    <tbody>\n",
       "        <tr>\n",
       "            <td>2</td>\n",
       "            <td>A1</td>\n",
       "        </tr>\n",
       "    </tbody>\n",
       "</table>"
      ],
      "text/plain": [
       "[(2, 'A1')]"
      ]
     },
     "execution_count": 153,
     "metadata": {},
     "output_type": "execute_result"
    }
   ],
   "source": [
    "%%sql\n",
    "SELECT COUNT(*), branches.name\n",
    "FROM bookInSystem\n",
    "INNER JOIN books USING(ISBN)\n",
    "INNER JOIN branches USING(branchID)\n",
    "WHERE title = \"bok1\" and bookID IN (\n",
    "    SELECT bookID\n",
    "    FROM branches\n",
    ");"
   ]
  },
  {
   "cell_type": "markdown",
   "metadata": {},
   "source": [
    "**Retrieve the names of all borrowers who borrowed the book titled \"A\" for each library branch.**"
   ]
  },
  {
   "cell_type": "code",
   "execution_count": 155,
   "metadata": {},
   "outputs": [
    {
     "name": "stdout",
     "output_type": "stream",
     "text": [
      " * sqlite:///library.db\n",
      "Done.\n"
     ]
    },
    {
     "data": {
      "text/html": [
       "<table>\n",
       "    <thead>\n",
       "        <tr>\n",
       "            <th>name</th>\n",
       "        </tr>\n",
       "    </thead>\n",
       "    <tbody>\n",
       "        <tr>\n",
       "            <td>Mathias</td>\n",
       "        </tr>\n",
       "    </tbody>\n",
       "</table>"
      ],
      "text/plain": [
       "[('Mathias',)]"
      ]
     },
     "execution_count": 155,
     "metadata": {},
     "output_type": "execute_result"
    }
   ],
   "source": [
    "%%sql\n",
    "SELECT name\n",
    "FROM borrowers\n",
    "INNER JOIN loans USING(borrowerID)\n",
    "INNER JOIN bookInSystem USING(bookID)\n",
    "INNER JOIN books USING(ISBN)\n",
    "WHERE title = \"bok1\";\n"
   ]
  },
  {
   "cell_type": "markdown",
   "metadata": {},
   "source": [
    "**For each book that is loaned out from the branch \"A\" and whose due date is today, retrieve the book title, the borrower's name(s), and the borrower's address(es).**"
   ]
  },
  {
   "cell_type": "code",
   "execution_count": 161,
   "metadata": {},
   "outputs": [
    {
     "name": "stdout",
     "output_type": "stream",
     "text": [
      " * sqlite:///library.db\n",
      "Done.\n"
     ]
    },
    {
     "data": {
      "text/html": [
       "<table>\n",
       "    <thead>\n",
       "        <tr>\n",
       "            <th>title</th>\n",
       "            <th>name</th>\n",
       "            <th>address</th>\n",
       "        </tr>\n",
       "    </thead>\n",
       "    <tbody>\n",
       "        <tr>\n",
       "            <td>bok10</td>\n",
       "            <td>Sjur</td>\n",
       "            <td>Oslo</td>\n",
       "        </tr>\n",
       "    </tbody>\n",
       "</table>"
      ],
      "text/plain": [
       "[('bok10', 'Sjur', 'Oslo')]"
      ]
     },
     "execution_count": 161,
     "metadata": {},
     "output_type": "execute_result"
    }
   ],
   "source": [
    "%%sql\n",
    "SELECT books.title, borrowers.name, borrowers.address \n",
    "FROM bookInSystem\n",
    "INNER JOIN books USING(ISBN)\n",
    "INNER JOIN loans USING(bookID)\n",
    "INNER JOIN borrowers USING(borrowerID)\n",
    "INNER JOIN branches USING(branchID)\n",
    "WHERE branches.name = \"A10\" AND loans.dueDate = \"2021-11-11\""
   ]
  },
  {
   "cell_type": "markdown",
   "metadata": {},
   "source": [
    "**For each branch, retrieve the branch name and the total number of books loaded out from that branch.**"
   ]
  },
  {
   "cell_type": "code",
   "execution_count": 150,
   "metadata": {},
   "outputs": [
    {
     "name": "stdout",
     "output_type": "stream",
     "text": [
      " * sqlite:///library.db\n",
      "Done.\n"
     ]
    },
    {
     "data": {
      "text/html": [
       "<table>\n",
       "    <thead>\n",
       "        <tr>\n",
       "            <th>name</th>\n",
       "            <th>COUNT(*)</th>\n",
       "        </tr>\n",
       "    </thead>\n",
       "    <tbody>\n",
       "        <tr>\n",
       "            <td>A1</td>\n",
       "            <td>3</td>\n",
       "        </tr>\n",
       "        <tr>\n",
       "            <td>A2</td>\n",
       "            <td>1</td>\n",
       "        </tr>\n",
       "        <tr>\n",
       "            <td>A3</td>\n",
       "            <td>2</td>\n",
       "        </tr>\n",
       "        <tr>\n",
       "            <td>A4</td>\n",
       "            <td>1</td>\n",
       "        </tr>\n",
       "        <tr>\n",
       "            <td>A6</td>\n",
       "            <td>1</td>\n",
       "        </tr>\n",
       "        <tr>\n",
       "            <td>A8</td>\n",
       "            <td>1</td>\n",
       "        </tr>\n",
       "        <tr>\n",
       "            <td>A9</td>\n",
       "            <td>1</td>\n",
       "        </tr>\n",
       "    </tbody>\n",
       "</table>"
      ],
      "text/plain": [
       "[('A1', 3), ('A2', 1), ('A3', 2), ('A4', 1), ('A6', 1), ('A8', 1), ('A9', 1)]"
      ]
     },
     "execution_count": 150,
     "metadata": {},
     "output_type": "execute_result"
    }
   ],
   "source": [
    "%%sql\n",
    "SELECT branches.name, COUNT(*)\n",
    "FROM loans, branches\n",
    "WHERE loans.branchID = branches.branchID\n",
    "GROUP BY branches.name;\n"
   ]
  }
 ],
 "metadata": {
  "interpreter": {
   "hash": "4561bed6174ae65377ea82c13f9ae534e185ef7485e0038b4f78f251fb97e57e"
  },
  "kernelspec": {
   "display_name": "Python 3.8.8 64-bit ('base': conda)",
   "name": "python3"
  },
  "language_info": {
   "codemirror_mode": {
    "name": "ipython",
    "version": 3
   },
   "file_extension": ".py",
   "mimetype": "text/x-python",
   "name": "python",
   "nbconvert_exporter": "python",
   "pygments_lexer": "ipython3",
   "version": "3.8.8"
  },
  "orig_nbformat": 4
 },
 "nbformat": 4,
 "nbformat_minor": 2
}
