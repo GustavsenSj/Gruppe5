{
 "cells": [
  {
   "cell_type": "code",
   "execution_count": 1,
   "metadata": {},
   "outputs": [],
   "source": [
    "%load_ext sql\n"
   ]
  },
  {
   "cell_type": "code",
   "execution_count": 2,
   "metadata": {},
   "outputs": [
    {
     "data": {
      "text/plain": [
       "'Connected: @library.db'"
      ]
     },
     "execution_count": 2,
     "metadata": {},
     "output_type": "execute_result"
    }
   ],
   "source": [
    "%sql sqlite:///library.db"
   ]
  },
  {
   "cell_type": "markdown",
   "metadata": {},
   "source": [
    "**The following code creates the databases**"
   ]
  },
  {
   "cell_type": "code",
   "execution_count": 3,
   "metadata": {},
   "outputs": [
    {
     "name": "stdout",
     "output_type": "stream",
     "text": [
      " * sqlite:///library.db\n",
      "Done.\n",
      "Done.\n",
      "(sqlite3.OperationalError) near \"SET\": syntax error\n",
      "[SQL: SET NOCOUNT ON;]\n",
      "(Background on this error at: http://sqlalche.me/e/14/e3q8)\n"
     ]
    }
   ],
   "source": [
    "%%sql\n",
    "DROP TABLE IF EXISTS branches;\n",
    "CREATE TABLE branches (\n",
    "    branchID int NOT NULL,\n",
    "    name varchar(250) NOT NULL,\n",
    "    address varchar(250) NOT NULL,\n",
    "    PRIMARY KEY (branchID)\n",
    ");\n",
    "SET NOCOUNT ON;"
   ]
  },
  {
   "cell_type": "code",
   "execution_count": 16,
   "metadata": {},
   "outputs": [
    {
     "name": "stdout",
     "output_type": "stream",
     "text": [
      " * sqlite:///library.db\n",
      "Done.\n",
      "Done.\n",
      "(sqlite3.OperationalError) near \"SET\": syntax error\n",
      "[SQL: SET NOCOUNT ON;]\n",
      "(Background on this error at: http://sqlalche.me/e/14/e3q8)\n"
     ]
    }
   ],
   "source": [
    "%%sql\n",
    "DROP TABLE IF EXISTS books;\n",
    "CREATE TABLE books (\n",
    "    bookID int NOT NULL,\n",
    "    branchID int NOT NULL,\n",
    "    title varchar(250) NOT NULL,\n",
    "    authors varchar(250) NOT NULL,\n",
    "    publisher varchar(250) NOT NULL,\n",
    "    PRIMARY KEY (bookID),\n",
    "    FOREIGN KEY (branchID) REFERENCES branches(branchID)\n",
    ");\n",
    "SET NOCOUNT ON;"
   ]
  },
  {
   "cell_type": "code",
   "execution_count": 5,
   "metadata": {},
   "outputs": [
    {
     "name": "stdout",
     "output_type": "stream",
     "text": [
      " * sqlite:///library.db\n",
      "Done.\n",
      "Done.\n",
      "(sqlite3.OperationalError) near \"SET\": syntax error\n",
      "[SQL: SET NOCOUNT ON;]\n",
      "(Background on this error at: http://sqlalche.me/e/14/e3q8)\n"
     ]
    }
   ],
   "source": [
    "%%sql\n",
    "DROP TABLE IF EXISTS borrowers;\n",
    "CREATE TABLE borrowers (\n",
    "    borrowerID int NOT NULL,\n",
    "    name varchar(255) NOT NULL,\n",
    "    address varchar(255),\n",
    "    PRIMARY KEY (borrowerID)\n",
    ");\n",
    "\n",
    "SET NOCOUNT ON;"
   ]
  },
  {
   "cell_type": "code",
   "execution_count": 6,
   "metadata": {},
   "outputs": [
    {
     "name": "stdout",
     "output_type": "stream",
     "text": [
      " * sqlite:///library.db\n",
      "Done.\n",
      "Done.\n",
      "(sqlite3.OperationalError) near \"SET\": syntax error\n",
      "[SQL: SET NOCOUNT ON;]\n",
      "(Background on this error at: http://sqlalche.me/e/14/e3q8)\n"
     ]
    }
   ],
   "source": [
    "%%sql\n",
    "DROP TABLE if EXISTS loans;\n",
    "CREATE TABLE loans (\n",
    "    loansID int NOT NULL,\n",
    "    borrowerID int NOT NULL,\n",
    "    bookID int NOT NULL,\n",
    "    date date NOT NULL,\n",
    "    dueDate date NOT NULL,\n",
    "    PRIMARY KEY (loansID),\n",
    "    FOREIGN KEY (borrowerID) REFERENCES borrowers(borrowerID)\n",
    "    FOREIGN KEY (bookID) REFERENCES books(bookID)\n",
    ");\n",
    "SET NOCOUNT ON;"
   ]
  },
  {
   "cell_type": "code",
   "execution_count": 7,
   "metadata": {},
   "outputs": [
    {
     "name": "stdout",
     "output_type": "stream",
     "text": [
      " * sqlite:///library.db\n",
      "Done.\n"
     ]
    },
    {
     "data": {
      "text/html": [
       "<table>\n",
       "    <thead>\n",
       "        <tr>\n",
       "            <th>cid</th>\n",
       "            <th>name</th>\n",
       "            <th>type</th>\n",
       "            <th>notnull</th>\n",
       "            <th>dflt_value</th>\n",
       "            <th>pk</th>\n",
       "        </tr>\n",
       "    </thead>\n",
       "    <tbody>\n",
       "        <tr>\n",
       "            <td>0</td>\n",
       "            <td>bookID</td>\n",
       "            <td>int</td>\n",
       "            <td>1</td>\n",
       "            <td>None</td>\n",
       "            <td>1</td>\n",
       "        </tr>\n",
       "        <tr>\n",
       "            <td>1</td>\n",
       "            <td>branchID</td>\n",
       "            <td>int</td>\n",
       "            <td>1</td>\n",
       "            <td>None</td>\n",
       "            <td>0</td>\n",
       "        </tr>\n",
       "        <tr>\n",
       "            <td>2</td>\n",
       "            <td>authors</td>\n",
       "            <td>varchar(250)</td>\n",
       "            <td>1</td>\n",
       "            <td>None</td>\n",
       "            <td>0</td>\n",
       "        </tr>\n",
       "        <tr>\n",
       "            <td>3</td>\n",
       "            <td>publisher</td>\n",
       "            <td>varchar(250)</td>\n",
       "            <td>1</td>\n",
       "            <td>None</td>\n",
       "            <td>0</td>\n",
       "        </tr>\n",
       "    </tbody>\n",
       "</table>"
      ],
      "text/plain": [
       "[(0, 'bookID', 'int', 1, None, 1),\n",
       " (1, 'branchID', 'int', 1, None, 0),\n",
       " (2, 'authors', 'varchar(250)', 1, None, 0),\n",
       " (3, 'publisher', 'varchar(250)', 1, None, 0)]"
      ]
     },
     "execution_count": 7,
     "metadata": {},
     "output_type": "execute_result"
    }
   ],
   "source": [
    "%sql PRAGMA table_info(books);"
   ]
  },
  {
   "cell_type": "code",
   "execution_count": 8,
   "metadata": {},
   "outputs": [
    {
     "name": "stdout",
     "output_type": "stream",
     "text": [
      " * sqlite:///library.db\n",
      "Done.\n"
     ]
    },
    {
     "data": {
      "text/html": [
       "<table>\n",
       "    <thead>\n",
       "        <tr>\n",
       "            <th>cid</th>\n",
       "            <th>name</th>\n",
       "            <th>type</th>\n",
       "            <th>notnull</th>\n",
       "            <th>dflt_value</th>\n",
       "            <th>pk</th>\n",
       "        </tr>\n",
       "    </thead>\n",
       "    <tbody>\n",
       "        <tr>\n",
       "            <td>0</td>\n",
       "            <td>branchID</td>\n",
       "            <td>int</td>\n",
       "            <td>1</td>\n",
       "            <td>None</td>\n",
       "            <td>1</td>\n",
       "        </tr>\n",
       "        <tr>\n",
       "            <td>1</td>\n",
       "            <td>name</td>\n",
       "            <td>varchar(250)</td>\n",
       "            <td>1</td>\n",
       "            <td>None</td>\n",
       "            <td>0</td>\n",
       "        </tr>\n",
       "        <tr>\n",
       "            <td>2</td>\n",
       "            <td>address</td>\n",
       "            <td>varchar(250)</td>\n",
       "            <td>1</td>\n",
       "            <td>None</td>\n",
       "            <td>0</td>\n",
       "        </tr>\n",
       "    </tbody>\n",
       "</table>"
      ],
      "text/plain": [
       "[(0, 'branchID', 'int', 1, None, 1),\n",
       " (1, 'name', 'varchar(250)', 1, None, 0),\n",
       " (2, 'address', 'varchar(250)', 1, None, 0)]"
      ]
     },
     "execution_count": 8,
     "metadata": {},
     "output_type": "execute_result"
    }
   ],
   "source": [
    "%sql PRAGMA table_info(branches);"
   ]
  },
  {
   "cell_type": "code",
   "execution_count": 9,
   "metadata": {},
   "outputs": [
    {
     "name": "stdout",
     "output_type": "stream",
     "text": [
      " * sqlite:///library.db\n",
      "Done.\n"
     ]
    },
    {
     "data": {
      "text/html": [
       "<table>\n",
       "    <thead>\n",
       "        <tr>\n",
       "            <th>cid</th>\n",
       "            <th>name</th>\n",
       "            <th>type</th>\n",
       "            <th>notnull</th>\n",
       "            <th>dflt_value</th>\n",
       "            <th>pk</th>\n",
       "        </tr>\n",
       "    </thead>\n",
       "    <tbody>\n",
       "        <tr>\n",
       "            <td>0</td>\n",
       "            <td>borrowerID</td>\n",
       "            <td>int</td>\n",
       "            <td>1</td>\n",
       "            <td>None</td>\n",
       "            <td>1</td>\n",
       "        </tr>\n",
       "        <tr>\n",
       "            <td>1</td>\n",
       "            <td>name</td>\n",
       "            <td>varchar(255)</td>\n",
       "            <td>1</td>\n",
       "            <td>None</td>\n",
       "            <td>0</td>\n",
       "        </tr>\n",
       "        <tr>\n",
       "            <td>2</td>\n",
       "            <td>address</td>\n",
       "            <td>varchar(255)</td>\n",
       "            <td>0</td>\n",
       "            <td>None</td>\n",
       "            <td>0</td>\n",
       "        </tr>\n",
       "    </tbody>\n",
       "</table>"
      ],
      "text/plain": [
       "[(0, 'borrowerID', 'int', 1, None, 1),\n",
       " (1, 'name', 'varchar(255)', 1, None, 0),\n",
       " (2, 'address', 'varchar(255)', 0, None, 0)]"
      ]
     },
     "execution_count": 9,
     "metadata": {},
     "output_type": "execute_result"
    }
   ],
   "source": [
    "%sql PRAGMA table_info(borrowers);"
   ]
  },
  {
   "cell_type": "code",
   "execution_count": 10,
   "metadata": {},
   "outputs": [
    {
     "name": "stdout",
     "output_type": "stream",
     "text": [
      " * sqlite:///library.db\n",
      "Done.\n"
     ]
    },
    {
     "data": {
      "text/html": [
       "<table>\n",
       "    <thead>\n",
       "        <tr>\n",
       "            <th>cid</th>\n",
       "            <th>name</th>\n",
       "            <th>type</th>\n",
       "            <th>notnull</th>\n",
       "            <th>dflt_value</th>\n",
       "            <th>pk</th>\n",
       "        </tr>\n",
       "    </thead>\n",
       "    <tbody>\n",
       "        <tr>\n",
       "            <td>0</td>\n",
       "            <td>loansID</td>\n",
       "            <td>int</td>\n",
       "            <td>1</td>\n",
       "            <td>None</td>\n",
       "            <td>1</td>\n",
       "        </tr>\n",
       "        <tr>\n",
       "            <td>1</td>\n",
       "            <td>borrowerID</td>\n",
       "            <td>int</td>\n",
       "            <td>1</td>\n",
       "            <td>None</td>\n",
       "            <td>0</td>\n",
       "        </tr>\n",
       "        <tr>\n",
       "            <td>2</td>\n",
       "            <td>bookID</td>\n",
       "            <td>int</td>\n",
       "            <td>1</td>\n",
       "            <td>None</td>\n",
       "            <td>0</td>\n",
       "        </tr>\n",
       "        <tr>\n",
       "            <td>3</td>\n",
       "            <td>date</td>\n",
       "            <td>date</td>\n",
       "            <td>1</td>\n",
       "            <td>None</td>\n",
       "            <td>0</td>\n",
       "        </tr>\n",
       "        <tr>\n",
       "            <td>4</td>\n",
       "            <td>dueDate</td>\n",
       "            <td>date</td>\n",
       "            <td>1</td>\n",
       "            <td>None</td>\n",
       "            <td>0</td>\n",
       "        </tr>\n",
       "    </tbody>\n",
       "</table>"
      ],
      "text/plain": [
       "[(0, 'loansID', 'int', 1, None, 1),\n",
       " (1, 'borrowerID', 'int', 1, None, 0),\n",
       " (2, 'bookID', 'int', 1, None, 0),\n",
       " (3, 'date', 'date', 1, None, 0),\n",
       " (4, 'dueDate', 'date', 1, None, 0)]"
      ]
     },
     "execution_count": 10,
     "metadata": {},
     "output_type": "execute_result"
    }
   ],
   "source": [
    "%sql PRAGMA table_info(loans);"
   ]
  },
  {
   "cell_type": "code",
   "execution_count": 11,
   "metadata": {},
   "outputs": [
    {
     "name": "stdout",
     "output_type": "stream",
     "text": [
      " * sqlite:///library.db\n",
      "3 rows affected.\n",
      "(sqlite3.OperationalError) near \"SET\": syntax error\n",
      "[SQL: SET NOCOUNT ON;]\n",
      "(Background on this error at: http://sqlalche.me/e/14/e3q8)\n"
     ]
    }
   ],
   "source": [
    "%%sql\n",
    "INSERT INTO branches (branchID, name, address)\n",
    "VALUES ('11111', 'Oslo', 'Oslogata'),\n",
    "('11112', 'Alesund', 'Alesundgata'),\n",
    "('11113', 'Bergen', 'Bergengata');\n",
    "SET NOCOUNT ON; "
   ]
  },
  {
   "cell_type": "code",
   "execution_count": 17,
   "metadata": {},
   "outputs": [
    {
     "name": "stdout",
     "output_type": "stream",
     "text": [
      " * sqlite:///library.db\n",
      "3 rows affected.\n",
      "(sqlite3.OperationalError) near \"SET\": syntax error\n",
      "[SQL: SET NOCOUNT ON;]\n",
      "(Background on this error at: http://sqlalche.me/e/14/e3q8)\n"
     ]
    }
   ],
   "source": [
    "%%sql\n",
    "INSERT INTO books (bookID, branchID, title, authors, publisher)\n",
    "VALUES ('10', '11111', 'bok1', 'Sjur', 'NTNU'),\n",
    "('12', '11111', 'bok2', 'Mathias', 'NTNU'),\n",
    "('08', '11112', 'bok3', 'ingen', 'NTNU');\n",
    "SET NOCOUNT ON; "
   ]
  },
  {
   "cell_type": "code",
   "execution_count": 19,
   "metadata": {},
   "outputs": [
    {
     "name": "stdout",
     "output_type": "stream",
     "text": [
      " * sqlite:///library.db\n",
      "2 rows affected.\n",
      "(sqlite3.OperationalError) near \"SET\": syntax error\n",
      "[SQL: SET NOCOUNT ON;]\n",
      "(Background on this error at: http://sqlalche.me/e/14/e3q8)\n"
     ]
    }
   ],
   "source": [
    "%%sql\n",
    "INSERT INTO borrowers (borrowerID, name, address)\n",
    "VALUES ('1', 'Sjur', 'Hjemme'),\n",
    "('2', 'Mathias', 'Borte');\n",
    "SET NOCOUNT ON; "
   ]
  },
  {
   "cell_type": "code",
   "execution_count": 21,
   "metadata": {},
   "outputs": [
    {
     "name": "stdout",
     "output_type": "stream",
     "text": [
      " * sqlite:///library.db\n",
      "3 rows affected.\n",
      "(sqlite3.OperationalError) near \"SET\": syntax error\n",
      "[SQL: SET NOCOUNT ON;]\n",
      "(Background on this error at: http://sqlalche.me/e/14/e3q8)\n"
     ]
    }
   ],
   "source": [
    "%%sql\n",
    "INSERT INTO loans (loansID, borrowerID, bookID, date, dueDate)\n",
    "VALUES ('123', '1', '10', '2021-02-21', '2021-05-21'),\n",
    "('111', '2', '12','2021-04-19', '2021-09-19'),\n",
    "('222', '2', '10', '2022-01-01', '2022-06-01');\n",
    "SET NOCOUNT ON; "
   ]
  },
  {
   "cell_type": "code",
   "execution_count": 12,
   "metadata": {},
   "outputs": [
    {
     "name": "stdout",
     "output_type": "stream",
     "text": [
      " * sqlite:///library.db\n",
      "Done.\n"
     ]
    },
    {
     "data": {
      "text/html": [
       "<table>\n",
       "    <thead>\n",
       "        <tr>\n",
       "            <th>branchID</th>\n",
       "            <th>name</th>\n",
       "            <th>address</th>\n",
       "        </tr>\n",
       "    </thead>\n",
       "    <tbody>\n",
       "        <tr>\n",
       "            <td>11111</td>\n",
       "            <td>Oslo</td>\n",
       "            <td>Oslogata</td>\n",
       "        </tr>\n",
       "        <tr>\n",
       "            <td>11112</td>\n",
       "            <td>Alesund</td>\n",
       "            <td>Alesundgata</td>\n",
       "        </tr>\n",
       "        <tr>\n",
       "            <td>11113</td>\n",
       "            <td>Bergen</td>\n",
       "            <td>Bergengata</td>\n",
       "        </tr>\n",
       "    </tbody>\n",
       "</table>"
      ],
      "text/plain": [
       "[(11111, 'Oslo', 'Oslogata'),\n",
       " (11112, 'Alesund', 'Alesundgata'),\n",
       " (11113, 'Bergen', 'Bergengata')]"
      ]
     },
     "execution_count": 12,
     "metadata": {},
     "output_type": "execute_result"
    }
   ],
   "source": [
    "%sql SELECT * FROM branches;"
   ]
  },
  {
   "cell_type": "code",
   "execution_count": 18,
   "metadata": {},
   "outputs": [
    {
     "name": "stdout",
     "output_type": "stream",
     "text": [
      " * sqlite:///library.db\n",
      "Done.\n"
     ]
    },
    {
     "data": {
      "text/html": [
       "<table>\n",
       "    <thead>\n",
       "        <tr>\n",
       "            <th>bookID</th>\n",
       "            <th>branchID</th>\n",
       "            <th>title</th>\n",
       "            <th>authors</th>\n",
       "            <th>publisher</th>\n",
       "        </tr>\n",
       "    </thead>\n",
       "    <tbody>\n",
       "        <tr>\n",
       "            <td>10</td>\n",
       "            <td>11111</td>\n",
       "            <td>bok1</td>\n",
       "            <td>Sjur</td>\n",
       "            <td>NTNU</td>\n",
       "        </tr>\n",
       "        <tr>\n",
       "            <td>12</td>\n",
       "            <td>11111</td>\n",
       "            <td>bok2</td>\n",
       "            <td>Mathias</td>\n",
       "            <td>NTNU</td>\n",
       "        </tr>\n",
       "        <tr>\n",
       "            <td>8</td>\n",
       "            <td>11112</td>\n",
       "            <td>bok3</td>\n",
       "            <td>ingen</td>\n",
       "            <td>NTNU</td>\n",
       "        </tr>\n",
       "    </tbody>\n",
       "</table>"
      ],
      "text/plain": [
       "[(10, 11111, 'bok1', 'Sjur', 'NTNU'),\n",
       " (12, 11111, 'bok2', 'Mathias', 'NTNU'),\n",
       " (8, 11112, 'bok3', 'ingen', 'NTNU')]"
      ]
     },
     "execution_count": 18,
     "metadata": {},
     "output_type": "execute_result"
    }
   ],
   "source": [
    "%sql SELECT * FROM books"
   ]
  },
  {
   "cell_type": "code",
   "execution_count": 20,
   "metadata": {},
   "outputs": [
    {
     "name": "stdout",
     "output_type": "stream",
     "text": [
      " * sqlite:///library.db\n",
      "Done.\n"
     ]
    },
    {
     "data": {
      "text/html": [
       "<table>\n",
       "    <thead>\n",
       "        <tr>\n",
       "            <th>borrowerID</th>\n",
       "            <th>name</th>\n",
       "            <th>address</th>\n",
       "        </tr>\n",
       "    </thead>\n",
       "    <tbody>\n",
       "        <tr>\n",
       "            <td>1</td>\n",
       "            <td>Sjur</td>\n",
       "            <td>Hjemme</td>\n",
       "        </tr>\n",
       "        <tr>\n",
       "            <td>2</td>\n",
       "            <td>Mathias</td>\n",
       "            <td>Borte</td>\n",
       "        </tr>\n",
       "    </tbody>\n",
       "</table>"
      ],
      "text/plain": [
       "[(1, 'Sjur', 'Hjemme'), (2, 'Mathias', 'Borte')]"
      ]
     },
     "execution_count": 20,
     "metadata": {},
     "output_type": "execute_result"
    }
   ],
   "source": [
    "%sql SELECT * FROM borrowers"
   ]
  },
  {
   "cell_type": "code",
   "execution_count": 22,
   "metadata": {},
   "outputs": [
    {
     "name": "stdout",
     "output_type": "stream",
     "text": [
      " * sqlite:///library.db\n",
      "Done.\n"
     ]
    },
    {
     "data": {
      "text/html": [
       "<table>\n",
       "    <thead>\n",
       "        <tr>\n",
       "            <th>loansID</th>\n",
       "            <th>borrowerID</th>\n",
       "            <th>bookID</th>\n",
       "            <th>date</th>\n",
       "            <th>dueDate</th>\n",
       "        </tr>\n",
       "    </thead>\n",
       "    <tbody>\n",
       "        <tr>\n",
       "            <td>123</td>\n",
       "            <td>1</td>\n",
       "            <td>10</td>\n",
       "            <td>2021-02-21</td>\n",
       "            <td>2021-05-21</td>\n",
       "        </tr>\n",
       "        <tr>\n",
       "            <td>111</td>\n",
       "            <td>2</td>\n",
       "            <td>12</td>\n",
       "            <td>2021-04-19</td>\n",
       "            <td>2021-09-19</td>\n",
       "        </tr>\n",
       "        <tr>\n",
       "            <td>222</td>\n",
       "            <td>2</td>\n",
       "            <td>10</td>\n",
       "            <td>2022-01-01</td>\n",
       "            <td>2022-06-01</td>\n",
       "        </tr>\n",
       "    </tbody>\n",
       "</table>"
      ],
      "text/plain": [
       "[(123, 1, 10, '2021-02-21', '2021-05-21'),\n",
       " (111, 2, 12, '2021-04-19', '2021-09-19'),\n",
       " (222, 2, 10, '2022-01-01', '2022-06-01')]"
      ]
     },
     "execution_count": 22,
     "metadata": {},
     "output_type": "execute_result"
    }
   ],
   "source": [
    "%sql SELECT * FROM loans"
   ]
  }
 ],
 "metadata": {
  "interpreter": {
   "hash": "4561bed6174ae65377ea82c13f9ae534e185ef7485e0038b4f78f251fb97e57e"
  },
  "kernelspec": {
   "display_name": "Python 3.8.8 64-bit ('base': conda)",
   "name": "python3"
  },
  "language_info": {
   "codemirror_mode": {
    "name": "ipython",
    "version": 3
   },
   "file_extension": ".py",
   "mimetype": "text/x-python",
   "name": "python",
   "nbconvert_exporter": "python",
   "pygments_lexer": "ipython3",
   "version": "3.8.8"
  },
  "orig_nbformat": 4
 },
 "nbformat": 4,
 "nbformat_minor": 2
}
