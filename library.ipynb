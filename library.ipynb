{
 "cells": [
  {
   "cell_type": "code",
   "execution_count": 213,
   "metadata": {},
   "outputs": [
    {
     "name": "stdout",
     "output_type": "stream",
     "text": [
      "The sql extension is already loaded. To reload it, use:\n",
      "  %reload_ext sql\n"
     ]
    }
   ],
   "source": [
    "%load_ext sql\n"
   ]
  },
  {
   "cell_type": "code",
   "execution_count": 214,
   "metadata": {},
   "outputs": [
    {
     "data": {
      "text/plain": [
       "'Connected: @library.db'"
      ]
     },
     "execution_count": 214,
     "metadata": {},
     "output_type": "execute_result"
    }
   ],
   "source": [
    "%sql sqlite:///library.db"
   ]
  },
  {
   "cell_type": "markdown",
   "metadata": {},
   "source": [
    "**The following code creates the databases**"
   ]
  },
  {
   "cell_type": "code",
   "execution_count": 215,
   "metadata": {},
   "outputs": [
    {
     "name": "stdout",
     "output_type": "stream",
     "text": [
      " * sqlite:///library.db\n",
      "Done.\n",
      "Done.\n",
      "(sqlite3.OperationalError) near \"SET\": syntax error\n",
      "[SQL: SET NOCOUNT ON;]\n",
      "(Background on this error at: http://sqlalche.me/e/14/e3q8)\n"
     ]
    }
   ],
   "source": [
    "%%sql\n",
    "DROP TABLE IF EXISTS branches;\n",
    "CREATE TABLE branches (\n",
    "    branchID int NOT NULL,\n",
    "    name varchar(250) NOT NULL,\n",
    "    address varchar(250) NOT NULL,\n",
    "    PRIMARY KEY (branchID)\n",
    ");\n",
    "SET NOCOUNT ON;"
   ]
  },
  {
   "cell_type": "code",
   "execution_count": 216,
   "metadata": {},
   "outputs": [
    {
     "name": "stdout",
     "output_type": "stream",
     "text": [
      " * sqlite:///library.db\n",
      "Done.\n",
      "Done.\n",
      "(sqlite3.OperationalError) near \"SET\": syntax error\n",
      "[SQL: SET NOCOUNT ON;]\n",
      "(Background on this error at: http://sqlalche.me/e/14/e3q8)\n"
     ]
    }
   ],
   "source": [
    "%%sql\n",
    "DROP TABLE IF EXISTS books;\n",
    "CREATE TABLE books (\n",
    "    bookID int NOT NULL,\n",
    "    branchID int NOT NULL,\n",
    "    title varchar(250) NOT NULL,\n",
    "    authors varchar(250) NOT NULL,\n",
    "    publisher varchar(250) NOT NULL,\n",
    "    PRIMARY KEY (bookID),\n",
    "    FOREIGN KEY (branchID) REFERENCES branches(branchID)\n",
    ");\n",
    "SET NOCOUNT ON;"
   ]
  },
  {
   "cell_type": "code",
   "execution_count": 217,
   "metadata": {},
   "outputs": [
    {
     "name": "stdout",
     "output_type": "stream",
     "text": [
      " * sqlite:///library.db\n",
      "Done.\n",
      "Done.\n",
      "(sqlite3.OperationalError) near \"SET\": syntax error\n",
      "[SQL: SET NOCOUNT ON;]\n",
      "(Background on this error at: http://sqlalche.me/e/14/e3q8)\n"
     ]
    }
   ],
   "source": [
    "%%sql\n",
    "DROP TABLE IF EXISTS borrowers;\n",
    "CREATE TABLE borrowers (\n",
    "    borrowerID int NOT NULL,\n",
    "    name varchar(255) NOT NULL,\n",
    "    address varchar(255),\n",
    "    phoneNumber int NOT NULL,\n",
    "    PRIMARY KEY (borrowerID)\n",
    ");\n",
    "\n",
    "SET NOCOUNT ON;"
   ]
  },
  {
   "cell_type": "code",
   "execution_count": 218,
   "metadata": {},
   "outputs": [
    {
     "name": "stdout",
     "output_type": "stream",
     "text": [
      " * sqlite:///library.db\n",
      "Done.\n",
      "Done.\n",
      "(sqlite3.OperationalError) near \"SET\": syntax error\n",
      "[SQL: SET NOCOUNT ON;]\n",
      "(Background on this error at: http://sqlalche.me/e/14/e3q8)\n"
     ]
    }
   ],
   "source": [
    "%%sql\n",
    "DROP TABLE if EXISTS loans;\n",
    "CREATE TABLE loans (\n",
    "    loansID int NOT NULL,\n",
    "    borrowerID int NOT NULL,\n",
    "    bookID int NOT NULL,\n",
    "    branchID int NOT NULL,\n",
    "    date date NOT NULL,\n",
    "    dueDate date NOT NULL,\n",
    "    PRIMARY KEY (loansID),\n",
    "    FOREIGN KEY (borrowerID) REFERENCES borrowers(borrowerID)\n",
    "    FOREIGN KEY (bookID) REFERENCES books(bookID)\n",
    "    FOREIGN KEY (branchID) REFERENCES branches(branchID)\n",
    ");\n",
    "SET NOCOUNT ON;"
   ]
  },
  {
   "cell_type": "code",
   "execution_count": 219,
   "metadata": {},
   "outputs": [
    {
     "name": "stdout",
     "output_type": "stream",
     "text": [
      " * sqlite:///library.db\n",
      "Done.\n"
     ]
    },
    {
     "data": {
      "text/html": [
       "<table>\n",
       "    <thead>\n",
       "        <tr>\n",
       "            <th>cid</th>\n",
       "            <th>name</th>\n",
       "            <th>type</th>\n",
       "            <th>notnull</th>\n",
       "            <th>dflt_value</th>\n",
       "            <th>pk</th>\n",
       "        </tr>\n",
       "    </thead>\n",
       "    <tbody>\n",
       "        <tr>\n",
       "            <td>0</td>\n",
       "            <td>bookID</td>\n",
       "            <td>int</td>\n",
       "            <td>1</td>\n",
       "            <td>None</td>\n",
       "            <td>1</td>\n",
       "        </tr>\n",
       "        <tr>\n",
       "            <td>1</td>\n",
       "            <td>branchID</td>\n",
       "            <td>int</td>\n",
       "            <td>1</td>\n",
       "            <td>None</td>\n",
       "            <td>0</td>\n",
       "        </tr>\n",
       "        <tr>\n",
       "            <td>2</td>\n",
       "            <td>title</td>\n",
       "            <td>varchar(250)</td>\n",
       "            <td>1</td>\n",
       "            <td>None</td>\n",
       "            <td>0</td>\n",
       "        </tr>\n",
       "        <tr>\n",
       "            <td>3</td>\n",
       "            <td>authors</td>\n",
       "            <td>varchar(250)</td>\n",
       "            <td>1</td>\n",
       "            <td>None</td>\n",
       "            <td>0</td>\n",
       "        </tr>\n",
       "        <tr>\n",
       "            <td>4</td>\n",
       "            <td>publisher</td>\n",
       "            <td>varchar(250)</td>\n",
       "            <td>1</td>\n",
       "            <td>None</td>\n",
       "            <td>0</td>\n",
       "        </tr>\n",
       "    </tbody>\n",
       "</table>"
      ],
      "text/plain": [
       "[(0, 'bookID', 'int', 1, None, 1),\n",
       " (1, 'branchID', 'int', 1, None, 0),\n",
       " (2, 'title', 'varchar(250)', 1, None, 0),\n",
       " (3, 'authors', 'varchar(250)', 1, None, 0),\n",
       " (4, 'publisher', 'varchar(250)', 1, None, 0)]"
      ]
     },
     "execution_count": 219,
     "metadata": {},
     "output_type": "execute_result"
    }
   ],
   "source": [
    "%sql PRAGMA table_info(books);"
   ]
  },
  {
   "cell_type": "code",
   "execution_count": 220,
   "metadata": {},
   "outputs": [
    {
     "name": "stdout",
     "output_type": "stream",
     "text": [
      " * sqlite:///library.db\n",
      "Done.\n"
     ]
    },
    {
     "data": {
      "text/html": [
       "<table>\n",
       "    <thead>\n",
       "        <tr>\n",
       "            <th>cid</th>\n",
       "            <th>name</th>\n",
       "            <th>type</th>\n",
       "            <th>notnull</th>\n",
       "            <th>dflt_value</th>\n",
       "            <th>pk</th>\n",
       "        </tr>\n",
       "    </thead>\n",
       "    <tbody>\n",
       "        <tr>\n",
       "            <td>0</td>\n",
       "            <td>branchID</td>\n",
       "            <td>int</td>\n",
       "            <td>1</td>\n",
       "            <td>None</td>\n",
       "            <td>1</td>\n",
       "        </tr>\n",
       "        <tr>\n",
       "            <td>1</td>\n",
       "            <td>name</td>\n",
       "            <td>varchar(250)</td>\n",
       "            <td>1</td>\n",
       "            <td>None</td>\n",
       "            <td>0</td>\n",
       "        </tr>\n",
       "        <tr>\n",
       "            <td>2</td>\n",
       "            <td>address</td>\n",
       "            <td>varchar(250)</td>\n",
       "            <td>1</td>\n",
       "            <td>None</td>\n",
       "            <td>0</td>\n",
       "        </tr>\n",
       "    </tbody>\n",
       "</table>"
      ],
      "text/plain": [
       "[(0, 'branchID', 'int', 1, None, 1),\n",
       " (1, 'name', 'varchar(250)', 1, None, 0),\n",
       " (2, 'address', 'varchar(250)', 1, None, 0)]"
      ]
     },
     "execution_count": 220,
     "metadata": {},
     "output_type": "execute_result"
    }
   ],
   "source": [
    "%sql PRAGMA table_info(branches);"
   ]
  },
  {
   "cell_type": "code",
   "execution_count": 221,
   "metadata": {},
   "outputs": [
    {
     "name": "stdout",
     "output_type": "stream",
     "text": [
      " * sqlite:///library.db\n",
      "Done.\n"
     ]
    },
    {
     "data": {
      "text/html": [
       "<table>\n",
       "    <thead>\n",
       "        <tr>\n",
       "            <th>cid</th>\n",
       "            <th>name</th>\n",
       "            <th>type</th>\n",
       "            <th>notnull</th>\n",
       "            <th>dflt_value</th>\n",
       "            <th>pk</th>\n",
       "        </tr>\n",
       "    </thead>\n",
       "    <tbody>\n",
       "        <tr>\n",
       "            <td>0</td>\n",
       "            <td>borrowerID</td>\n",
       "            <td>int</td>\n",
       "            <td>1</td>\n",
       "            <td>None</td>\n",
       "            <td>1</td>\n",
       "        </tr>\n",
       "        <tr>\n",
       "            <td>1</td>\n",
       "            <td>name</td>\n",
       "            <td>varchar(255)</td>\n",
       "            <td>1</td>\n",
       "            <td>None</td>\n",
       "            <td>0</td>\n",
       "        </tr>\n",
       "        <tr>\n",
       "            <td>2</td>\n",
       "            <td>address</td>\n",
       "            <td>varchar(255)</td>\n",
       "            <td>0</td>\n",
       "            <td>None</td>\n",
       "            <td>0</td>\n",
       "        </tr>\n",
       "        <tr>\n",
       "            <td>3</td>\n",
       "            <td>phoneNumber</td>\n",
       "            <td>int</td>\n",
       "            <td>1</td>\n",
       "            <td>None</td>\n",
       "            <td>0</td>\n",
       "        </tr>\n",
       "    </tbody>\n",
       "</table>"
      ],
      "text/plain": [
       "[(0, 'borrowerID', 'int', 1, None, 1),\n",
       " (1, 'name', 'varchar(255)', 1, None, 0),\n",
       " (2, 'address', 'varchar(255)', 0, None, 0),\n",
       " (3, 'phoneNumber', 'int', 1, None, 0)]"
      ]
     },
     "execution_count": 221,
     "metadata": {},
     "output_type": "execute_result"
    }
   ],
   "source": [
    "%sql PRAGMA table_info(borrowers);"
   ]
  },
  {
   "cell_type": "code",
   "execution_count": 222,
   "metadata": {},
   "outputs": [
    {
     "name": "stdout",
     "output_type": "stream",
     "text": [
      " * sqlite:///library.db\n",
      "Done.\n"
     ]
    },
    {
     "data": {
      "text/html": [
       "<table>\n",
       "    <thead>\n",
       "        <tr>\n",
       "            <th>cid</th>\n",
       "            <th>name</th>\n",
       "            <th>type</th>\n",
       "            <th>notnull</th>\n",
       "            <th>dflt_value</th>\n",
       "            <th>pk</th>\n",
       "        </tr>\n",
       "    </thead>\n",
       "    <tbody>\n",
       "        <tr>\n",
       "            <td>0</td>\n",
       "            <td>loansID</td>\n",
       "            <td>int</td>\n",
       "            <td>1</td>\n",
       "            <td>None</td>\n",
       "            <td>1</td>\n",
       "        </tr>\n",
       "        <tr>\n",
       "            <td>1</td>\n",
       "            <td>borrowerID</td>\n",
       "            <td>int</td>\n",
       "            <td>1</td>\n",
       "            <td>None</td>\n",
       "            <td>0</td>\n",
       "        </tr>\n",
       "        <tr>\n",
       "            <td>2</td>\n",
       "            <td>bookID</td>\n",
       "            <td>int</td>\n",
       "            <td>1</td>\n",
       "            <td>None</td>\n",
       "            <td>0</td>\n",
       "        </tr>\n",
       "        <tr>\n",
       "            <td>3</td>\n",
       "            <td>branchID</td>\n",
       "            <td>int</td>\n",
       "            <td>1</td>\n",
       "            <td>None</td>\n",
       "            <td>0</td>\n",
       "        </tr>\n",
       "        <tr>\n",
       "            <td>4</td>\n",
       "            <td>date</td>\n",
       "            <td>date</td>\n",
       "            <td>1</td>\n",
       "            <td>None</td>\n",
       "            <td>0</td>\n",
       "        </tr>\n",
       "        <tr>\n",
       "            <td>5</td>\n",
       "            <td>dueDate</td>\n",
       "            <td>date</td>\n",
       "            <td>1</td>\n",
       "            <td>None</td>\n",
       "            <td>0</td>\n",
       "        </tr>\n",
       "    </tbody>\n",
       "</table>"
      ],
      "text/plain": [
       "[(0, 'loansID', 'int', 1, None, 1),\n",
       " (1, 'borrowerID', 'int', 1, None, 0),\n",
       " (2, 'bookID', 'int', 1, None, 0),\n",
       " (3, 'branchID', 'int', 1, None, 0),\n",
       " (4, 'date', 'date', 1, None, 0),\n",
       " (5, 'dueDate', 'date', 1, None, 0)]"
      ]
     },
     "execution_count": 222,
     "metadata": {},
     "output_type": "execute_result"
    }
   ],
   "source": [
    "%sql PRAGMA table_info(loans);"
   ]
  },
  {
   "cell_type": "code",
   "execution_count": 223,
   "metadata": {},
   "outputs": [
    {
     "name": "stdout",
     "output_type": "stream",
     "text": [
      " * sqlite:///library.db\n",
      "10 rows affected.\n",
      "(sqlite3.OperationalError) near \"SET\": syntax error\n",
      "[SQL: SET NOCOUNT ON;]\n",
      "(Background on this error at: http://sqlalche.me/e/14/e3q8)\n"
     ]
    }
   ],
   "source": [
    "%%sql\n",
    "INSERT INTO branches (branchID, name, address)\n",
    "VALUES ('11111', 'A1', 'Oslogata'),\n",
    "('11112', 'A2', 'Alesundgata'),\n",
    "('11113', 'A3', 'Bergengata'),\n",
    "('11114', 'A4', 'Altagada'),\n",
    "('11115', 'A5', 'Moldegata'),\n",
    "('11116', 'A6', 'Hammerfestgata'),\n",
    "('11117', 'A7', 'Tromsøgata'),\n",
    "('11118', 'A8', 'Eidgata'),\n",
    "('11119', 'A9', 'Trondheimgata'),\n",
    "('11110', 'A10', 'Stavangergata');\n",
    "SET NOCOUNT ON; "
   ]
  },
  {
   "cell_type": "code",
   "execution_count": 224,
   "metadata": {},
   "outputs": [
    {
     "name": "stdout",
     "output_type": "stream",
     "text": [
      " * sqlite:///library.db\n",
      "10 rows affected.\n",
      "(sqlite3.OperationalError) near \"SET\": syntax error\n",
      "[SQL: SET NOCOUNT ON;]\n",
      "(Background on this error at: http://sqlalche.me/e/14/e3q8)\n"
     ]
    }
   ],
   "source": [
    "%%sql\n",
    "INSERT INTO books (bookID, branchID, title, authors, publisher)\n",
    "VALUES ('10', '11111', 'bok1', 'author1', 'NTNU'),\n",
    "('11', '11111', 'bok1', 'author1', 'NTNU'),\n",
    "('12', '11111', 'bok2', 'author2', 'NTNU'),\n",
    "('13', '11113', 'bok1', 'author1', 'NTNU'),\n",
    "('14', '11112', 'bok3', 'author3', 'NTNU'),\n",
    "('15', '11114', 'bok3', 'author4', 'NTNU'),\n",
    "('16', '11116', 'bok6', 'author5', 'NTNU'),\n",
    "('17', '11117', 'bok8', 'author3', 'NTNU'),\n",
    "('18', '11119', 'bok9', 'author6', 'NTNU'),\n",
    "('09', '11110', 'bok7', 'author7', 'NTNU');\n",
    "SET NOCOUNT ON; "
   ]
  },
  {
   "cell_type": "code",
   "execution_count": 225,
   "metadata": {},
   "outputs": [
    {
     "name": "stdout",
     "output_type": "stream",
     "text": [
      " * sqlite:///library.db\n",
      "10 rows affected.\n",
      "(sqlite3.OperationalError) near \"SET\": syntax error\n",
      "[SQL: SET NOCOUNT ON;]\n",
      "(Background on this error at: http://sqlalche.me/e/14/e3q8)\n"
     ]
    }
   ],
   "source": [
    "%%sql\n",
    "INSERT INTO borrowers (borrowerID, name, address, phoneNumber)\n",
    "VALUES ('1', 'Sjur', 'Oslo', '46634708'),\n",
    "('2', 'Mathias', 'Borte', '46634709'),\n",
    "('3', 'Hans', 'Alta', '46634707'),\n",
    "('4', 'Michal', 'Stavanger', '46634706'),\n",
    "('5', 'Per', 'Ålesund', '46634705'),\n",
    "('6', 'Pål', 'Bergen', '46634704'),\n",
    "('7', 'Arne', 'Trondheim', '46634703'),\n",
    "('8', 'Peder', 'Tromsø', '46634702'),\n",
    "('9', 'Knut', 'Hammerfest', '46634701'),\n",
    "('10', 'Sebastian', 'Eid', '46634710');\n",
    "SET NOCOUNT ON;"
   ]
  },
  {
   "cell_type": "code",
   "execution_count": 226,
   "metadata": {},
   "outputs": [
    {
     "name": "stdout",
     "output_type": "stream",
     "text": [
      " * sqlite:///library.db\n",
      "10 rows affected.\n",
      "(sqlite3.OperationalError) near \"SET\": syntax error\n",
      "[SQL: SET NOCOUNT ON;]\n",
      "(Background on this error at: http://sqlalche.me/e/14/e3q8)\n"
     ]
    }
   ],
   "source": [
    "%%sql\n",
    "INSERT INTO loans (loansID, borrowerID, bookID, branchID, date, dueDate)\n",
    "VALUES ('123', '1', '10','11111', '2021-02-21', '2021-11-11'),\n",
    "('111', '2', '12','11111','2021-03-19', '2021-08-19'),\n",
    "('132', '1', '13','11113','2021-03-19', '2021-11-11'),\n",
    "('222', '2', '10','11111', '2022-01-01', '2022-06-01'),\n",
    "('887', '3', '08','11112', '2021-07-09','2021-11-30'),\n",
    "('877', '5', '08','11114', '2021-07-09','2021-06-10'),\n",
    "('866', '7', '08','11113', '2021-07-09','2021-12-08'),\n",
    "('855', '4', '08','11116', '2021-07-09','2021-02-12'),\n",
    "('844', '8', '08','11119', '2021-07-09','2021-02-26'),\n",
    "('833', '9', '08','11118', '2021-07-09','2021-12-01');\n",
    "SET NOCOUNT ON; "
   ]
  },
  {
   "cell_type": "code",
   "execution_count": 227,
   "metadata": {},
   "outputs": [
    {
     "name": "stdout",
     "output_type": "stream",
     "text": [
      " * sqlite:///library.db\n",
      "Done.\n"
     ]
    },
    {
     "data": {
      "text/html": [
       "<table>\n",
       "    <thead>\n",
       "        <tr>\n",
       "            <th>branchID</th>\n",
       "            <th>name</th>\n",
       "            <th>address</th>\n",
       "        </tr>\n",
       "    </thead>\n",
       "    <tbody>\n",
       "        <tr>\n",
       "            <td>11111</td>\n",
       "            <td>A1</td>\n",
       "            <td>Oslogata</td>\n",
       "        </tr>\n",
       "        <tr>\n",
       "            <td>11112</td>\n",
       "            <td>A2</td>\n",
       "            <td>Alesundgata</td>\n",
       "        </tr>\n",
       "        <tr>\n",
       "            <td>11113</td>\n",
       "            <td>A3</td>\n",
       "            <td>Bergengata</td>\n",
       "        </tr>\n",
       "        <tr>\n",
       "            <td>11114</td>\n",
       "            <td>A4</td>\n",
       "            <td>Altagada</td>\n",
       "        </tr>\n",
       "        <tr>\n",
       "            <td>11115</td>\n",
       "            <td>A5</td>\n",
       "            <td>Moldegata</td>\n",
       "        </tr>\n",
       "        <tr>\n",
       "            <td>11116</td>\n",
       "            <td>A6</td>\n",
       "            <td>Hammerfestgata</td>\n",
       "        </tr>\n",
       "        <tr>\n",
       "            <td>11117</td>\n",
       "            <td>A7</td>\n",
       "            <td>Tromsøgata</td>\n",
       "        </tr>\n",
       "        <tr>\n",
       "            <td>11118</td>\n",
       "            <td>A8</td>\n",
       "            <td>Eidgata</td>\n",
       "        </tr>\n",
       "        <tr>\n",
       "            <td>11119</td>\n",
       "            <td>A9</td>\n",
       "            <td>Trondheimgata</td>\n",
       "        </tr>\n",
       "        <tr>\n",
       "            <td>11110</td>\n",
       "            <td>A10</td>\n",
       "            <td>Stavangergata</td>\n",
       "        </tr>\n",
       "    </tbody>\n",
       "</table>"
      ],
      "text/plain": [
       "[(11111, 'A1', 'Oslogata'),\n",
       " (11112, 'A2', 'Alesundgata'),\n",
       " (11113, 'A3', 'Bergengata'),\n",
       " (11114, 'A4', 'Altagada'),\n",
       " (11115, 'A5', 'Moldegata'),\n",
       " (11116, 'A6', 'Hammerfestgata'),\n",
       " (11117, 'A7', 'Tromsøgata'),\n",
       " (11118, 'A8', 'Eidgata'),\n",
       " (11119, 'A9', 'Trondheimgata'),\n",
       " (11110, 'A10', 'Stavangergata')]"
      ]
     },
     "execution_count": 227,
     "metadata": {},
     "output_type": "execute_result"
    }
   ],
   "source": [
    "%sql SELECT * FROM branches;"
   ]
  },
  {
   "cell_type": "code",
   "execution_count": 228,
   "metadata": {},
   "outputs": [
    {
     "name": "stdout",
     "output_type": "stream",
     "text": [
      " * sqlite:///library.db\n",
      "Done.\n"
     ]
    },
    {
     "data": {
      "text/html": [
       "<table>\n",
       "    <thead>\n",
       "        <tr>\n",
       "            <th>bookID</th>\n",
       "            <th>branchID</th>\n",
       "            <th>title</th>\n",
       "            <th>authors</th>\n",
       "            <th>publisher</th>\n",
       "        </tr>\n",
       "    </thead>\n",
       "    <tbody>\n",
       "        <tr>\n",
       "            <td>10</td>\n",
       "            <td>11111</td>\n",
       "            <td>bok1</td>\n",
       "            <td>author1</td>\n",
       "            <td>NTNU</td>\n",
       "        </tr>\n",
       "        <tr>\n",
       "            <td>11</td>\n",
       "            <td>11111</td>\n",
       "            <td>bok1</td>\n",
       "            <td>author1</td>\n",
       "            <td>NTNU</td>\n",
       "        </tr>\n",
       "        <tr>\n",
       "            <td>12</td>\n",
       "            <td>11111</td>\n",
       "            <td>bok2</td>\n",
       "            <td>author2</td>\n",
       "            <td>NTNU</td>\n",
       "        </tr>\n",
       "        <tr>\n",
       "            <td>13</td>\n",
       "            <td>11113</td>\n",
       "            <td>bok1</td>\n",
       "            <td>author1</td>\n",
       "            <td>NTNU</td>\n",
       "        </tr>\n",
       "        <tr>\n",
       "            <td>14</td>\n",
       "            <td>11112</td>\n",
       "            <td>bok3</td>\n",
       "            <td>author3</td>\n",
       "            <td>NTNU</td>\n",
       "        </tr>\n",
       "        <tr>\n",
       "            <td>15</td>\n",
       "            <td>11114</td>\n",
       "            <td>bok3</td>\n",
       "            <td>author4</td>\n",
       "            <td>NTNU</td>\n",
       "        </tr>\n",
       "        <tr>\n",
       "            <td>16</td>\n",
       "            <td>11116</td>\n",
       "            <td>bok6</td>\n",
       "            <td>author5</td>\n",
       "            <td>NTNU</td>\n",
       "        </tr>\n",
       "        <tr>\n",
       "            <td>17</td>\n",
       "            <td>11117</td>\n",
       "            <td>bok8</td>\n",
       "            <td>author3</td>\n",
       "            <td>NTNU</td>\n",
       "        </tr>\n",
       "        <tr>\n",
       "            <td>18</td>\n",
       "            <td>11119</td>\n",
       "            <td>bok9</td>\n",
       "            <td>author6</td>\n",
       "            <td>NTNU</td>\n",
       "        </tr>\n",
       "        <tr>\n",
       "            <td>9</td>\n",
       "            <td>11110</td>\n",
       "            <td>bok7</td>\n",
       "            <td>author7</td>\n",
       "            <td>NTNU</td>\n",
       "        </tr>\n",
       "    </tbody>\n",
       "</table>"
      ],
      "text/plain": [
       "[(10, 11111, 'bok1', 'author1', 'NTNU'),\n",
       " (11, 11111, 'bok1', 'author1', 'NTNU'),\n",
       " (12, 11111, 'bok2', 'author2', 'NTNU'),\n",
       " (13, 11113, 'bok1', 'author1', 'NTNU'),\n",
       " (14, 11112, 'bok3', 'author3', 'NTNU'),\n",
       " (15, 11114, 'bok3', 'author4', 'NTNU'),\n",
       " (16, 11116, 'bok6', 'author5', 'NTNU'),\n",
       " (17, 11117, 'bok8', 'author3', 'NTNU'),\n",
       " (18, 11119, 'bok9', 'author6', 'NTNU'),\n",
       " (9, 11110, 'bok7', 'author7', 'NTNU')]"
      ]
     },
     "execution_count": 228,
     "metadata": {},
     "output_type": "execute_result"
    }
   ],
   "source": [
    "%sql SELECT * FROM books"
   ]
  },
  {
   "cell_type": "code",
   "execution_count": 229,
   "metadata": {},
   "outputs": [
    {
     "name": "stdout",
     "output_type": "stream",
     "text": [
      " * sqlite:///library.db\n",
      "Done.\n"
     ]
    },
    {
     "data": {
      "text/html": [
       "<table>\n",
       "    <thead>\n",
       "        <tr>\n",
       "            <th>borrowerID</th>\n",
       "            <th>name</th>\n",
       "            <th>address</th>\n",
       "            <th>phoneNumber</th>\n",
       "        </tr>\n",
       "    </thead>\n",
       "    <tbody>\n",
       "        <tr>\n",
       "            <td>1</td>\n",
       "            <td>Sjur</td>\n",
       "            <td>Oslo</td>\n",
       "            <td>46634708</td>\n",
       "        </tr>\n",
       "        <tr>\n",
       "            <td>2</td>\n",
       "            <td>Mathias</td>\n",
       "            <td>Borte</td>\n",
       "            <td>46634709</td>\n",
       "        </tr>\n",
       "        <tr>\n",
       "            <td>3</td>\n",
       "            <td>Hans</td>\n",
       "            <td>Alta</td>\n",
       "            <td>46634707</td>\n",
       "        </tr>\n",
       "        <tr>\n",
       "            <td>4</td>\n",
       "            <td>Michal</td>\n",
       "            <td>Stavanger</td>\n",
       "            <td>46634706</td>\n",
       "        </tr>\n",
       "        <tr>\n",
       "            <td>5</td>\n",
       "            <td>Per</td>\n",
       "            <td>Ålesund</td>\n",
       "            <td>46634705</td>\n",
       "        </tr>\n",
       "        <tr>\n",
       "            <td>6</td>\n",
       "            <td>Pål</td>\n",
       "            <td>Bergen</td>\n",
       "            <td>46634704</td>\n",
       "        </tr>\n",
       "        <tr>\n",
       "            <td>7</td>\n",
       "            <td>Arne</td>\n",
       "            <td>Trondheim</td>\n",
       "            <td>46634703</td>\n",
       "        </tr>\n",
       "        <tr>\n",
       "            <td>8</td>\n",
       "            <td>Peder</td>\n",
       "            <td>Tromsø</td>\n",
       "            <td>46634702</td>\n",
       "        </tr>\n",
       "        <tr>\n",
       "            <td>9</td>\n",
       "            <td>Knut</td>\n",
       "            <td>Hammerfest</td>\n",
       "            <td>46634701</td>\n",
       "        </tr>\n",
       "        <tr>\n",
       "            <td>10</td>\n",
       "            <td>Sebastian</td>\n",
       "            <td>Eid</td>\n",
       "            <td>46634710</td>\n",
       "        </tr>\n",
       "    </tbody>\n",
       "</table>"
      ],
      "text/plain": [
       "[(1, 'Sjur', 'Oslo', 46634708),\n",
       " (2, 'Mathias', 'Borte', 46634709),\n",
       " (3, 'Hans', 'Alta', 46634707),\n",
       " (4, 'Michal', 'Stavanger', 46634706),\n",
       " (5, 'Per', 'Ålesund', 46634705),\n",
       " (6, 'Pål', 'Bergen', 46634704),\n",
       " (7, 'Arne', 'Trondheim', 46634703),\n",
       " (8, 'Peder', 'Tromsø', 46634702),\n",
       " (9, 'Knut', 'Hammerfest', 46634701),\n",
       " (10, 'Sebastian', 'Eid', 46634710)]"
      ]
     },
     "execution_count": 229,
     "metadata": {},
     "output_type": "execute_result"
    }
   ],
   "source": [
    "%sql SELECT * FROM borrowers"
   ]
  },
  {
   "cell_type": "code",
   "execution_count": 230,
   "metadata": {},
   "outputs": [
    {
     "name": "stdout",
     "output_type": "stream",
     "text": [
      " * sqlite:///library.db\n",
      "Done.\n"
     ]
    },
    {
     "data": {
      "text/html": [
       "<table>\n",
       "    <thead>\n",
       "        <tr>\n",
       "            <th>loansID</th>\n",
       "            <th>borrowerID</th>\n",
       "            <th>bookID</th>\n",
       "            <th>branchID</th>\n",
       "            <th>date</th>\n",
       "            <th>dueDate</th>\n",
       "        </tr>\n",
       "    </thead>\n",
       "    <tbody>\n",
       "        <tr>\n",
       "            <td>123</td>\n",
       "            <td>1</td>\n",
       "            <td>10</td>\n",
       "            <td>11111</td>\n",
       "            <td>2021-02-21</td>\n",
       "            <td>2021-11-11</td>\n",
       "        </tr>\n",
       "        <tr>\n",
       "            <td>111</td>\n",
       "            <td>2</td>\n",
       "            <td>12</td>\n",
       "            <td>11111</td>\n",
       "            <td>2021-03-19</td>\n",
       "            <td>2021-08-19</td>\n",
       "        </tr>\n",
       "        <tr>\n",
       "            <td>132</td>\n",
       "            <td>1</td>\n",
       "            <td>13</td>\n",
       "            <td>11113</td>\n",
       "            <td>2021-03-19</td>\n",
       "            <td>2021-11-11</td>\n",
       "        </tr>\n",
       "        <tr>\n",
       "            <td>222</td>\n",
       "            <td>2</td>\n",
       "            <td>10</td>\n",
       "            <td>11111</td>\n",
       "            <td>2022-01-01</td>\n",
       "            <td>2022-06-01</td>\n",
       "        </tr>\n",
       "        <tr>\n",
       "            <td>887</td>\n",
       "            <td>3</td>\n",
       "            <td>8</td>\n",
       "            <td>11112</td>\n",
       "            <td>2021-07-09</td>\n",
       "            <td>2021-11-30</td>\n",
       "        </tr>\n",
       "        <tr>\n",
       "            <td>877</td>\n",
       "            <td>5</td>\n",
       "            <td>8</td>\n",
       "            <td>11114</td>\n",
       "            <td>2021-07-09</td>\n",
       "            <td>2021-06-10</td>\n",
       "        </tr>\n",
       "        <tr>\n",
       "            <td>866</td>\n",
       "            <td>7</td>\n",
       "            <td>8</td>\n",
       "            <td>11113</td>\n",
       "            <td>2021-07-09</td>\n",
       "            <td>2021-12-08</td>\n",
       "        </tr>\n",
       "        <tr>\n",
       "            <td>855</td>\n",
       "            <td>4</td>\n",
       "            <td>8</td>\n",
       "            <td>11116</td>\n",
       "            <td>2021-07-09</td>\n",
       "            <td>2021-02-12</td>\n",
       "        </tr>\n",
       "        <tr>\n",
       "            <td>844</td>\n",
       "            <td>8</td>\n",
       "            <td>8</td>\n",
       "            <td>11119</td>\n",
       "            <td>2021-07-09</td>\n",
       "            <td>2021-02-26</td>\n",
       "        </tr>\n",
       "        <tr>\n",
       "            <td>833</td>\n",
       "            <td>9</td>\n",
       "            <td>8</td>\n",
       "            <td>11118</td>\n",
       "            <td>2021-07-09</td>\n",
       "            <td>2021-12-01</td>\n",
       "        </tr>\n",
       "    </tbody>\n",
       "</table>"
      ],
      "text/plain": [
       "[(123, 1, 10, 11111, '2021-02-21', '2021-11-11'),\n",
       " (111, 2, 12, 11111, '2021-03-19', '2021-08-19'),\n",
       " (132, 1, 13, 11113, '2021-03-19', '2021-11-11'),\n",
       " (222, 2, 10, 11111, '2022-01-01', '2022-06-01'),\n",
       " (887, 3, 8, 11112, '2021-07-09', '2021-11-30'),\n",
       " (877, 5, 8, 11114, '2021-07-09', '2021-06-10'),\n",
       " (866, 7, 8, 11113, '2021-07-09', '2021-12-08'),\n",
       " (855, 4, 8, 11116, '2021-07-09', '2021-02-12'),\n",
       " (844, 8, 8, 11119, '2021-07-09', '2021-02-26'),\n",
       " (833, 9, 8, 11118, '2021-07-09', '2021-12-01')]"
      ]
     },
     "execution_count": 230,
     "metadata": {},
     "output_type": "execute_result"
    }
   ],
   "source": [
    "%sql SELECT * FROM loans"
   ]
  },
  {
   "cell_type": "markdown",
   "metadata": {},
   "source": [
    "**How many copies of the book titled \"A\" and published by \"B\" are owned by the library branch whose address is \"C\"?**"
   ]
  },
  {
   "cell_type": "code",
   "execution_count": 231,
   "metadata": {},
   "outputs": [
    {
     "name": "stdout",
     "output_type": "stream",
     "text": [
      " * sqlite:///library.db\n",
      "Done.\n"
     ]
    },
    {
     "data": {
      "text/html": [
       "<table>\n",
       "    <thead>\n",
       "        <tr>\n",
       "            <th>COUNT(*)</th>\n",
       "        </tr>\n",
       "    </thead>\n",
       "    <tbody>\n",
       "        <tr>\n",
       "            <td>3</td>\n",
       "        </tr>\n",
       "    </tbody>\n",
       "</table>"
      ],
      "text/plain": [
       "[(3,)]"
      ]
     },
     "execution_count": 231,
     "metadata": {},
     "output_type": "execute_result"
    }
   ],
   "source": [
    "%%sql\n",
    "SELECT COUNT(*)\n",
    "FROM books\n",
    "WHERE title = \"bok1\" AND publisher = \"NTNU\" AND bookID IN (\n",
    "    SELECT bookID\n",
    "    FROM branches\n",
    "    WHERE address = \"Oslogata\"\n",
    ")"
   ]
  },
  {
   "cell_type": "markdown",
   "metadata": {},
   "source": [
    "**How many copies of the book titled \"A\" are owned by each library branch?**"
   ]
  },
  {
   "cell_type": "code",
   "execution_count": 232,
   "metadata": {},
   "outputs": [
    {
     "name": "stdout",
     "output_type": "stream",
     "text": [
      " * sqlite:///library.db\n",
      "Done.\n"
     ]
    },
    {
     "data": {
      "text/html": [
       "<table>\n",
       "    <thead>\n",
       "        <tr>\n",
       "            <th>COUNT(*)</th>\n",
       "        </tr>\n",
       "    </thead>\n",
       "    <tbody>\n",
       "        <tr>\n",
       "            <td>1</td>\n",
       "        </tr>\n",
       "    </tbody>\n",
       "</table>"
      ],
      "text/plain": [
       "[(1,)]"
      ]
     },
     "execution_count": 232,
     "metadata": {},
     "output_type": "execute_result"
    }
   ],
   "source": [
    "%%sql\n",
    "SELECT COUNT(*)\n",
    "FROM books\n",
    "WHERE title = \"bok2\" and bookID IN (\n",
    "    SELECT bookID\n",
    "    FROM branches\n",
    ")"
   ]
  },
  {
   "cell_type": "markdown",
   "metadata": {},
   "source": [
    "**Retrieve the names of all borrowers who borrowed the book titled \"A\" for each library branch.**"
   ]
  },
  {
   "cell_type": "code",
   "execution_count": 233,
   "metadata": {},
   "outputs": [
    {
     "name": "stdout",
     "output_type": "stream",
     "text": [
      " * sqlite:///library.db\n",
      "Done.\n"
     ]
    },
    {
     "data": {
      "text/html": [
       "<table>\n",
       "    <thead>\n",
       "        <tr>\n",
       "            <th>name</th>\n",
       "        </tr>\n",
       "    </thead>\n",
       "    <tbody>\n",
       "        <tr>\n",
       "            <td>Sjur</td>\n",
       "        </tr>\n",
       "        <tr>\n",
       "            <td>Sjur</td>\n",
       "        </tr>\n",
       "        <tr>\n",
       "            <td>Mathias</td>\n",
       "        </tr>\n",
       "    </tbody>\n",
       "</table>"
      ],
      "text/plain": [
       "[('Sjur',), ('Sjur',), ('Mathias',)]"
      ]
     },
     "execution_count": 233,
     "metadata": {},
     "output_type": "execute_result"
    }
   ],
   "source": [
    "%%sql\n",
    "SELECT name\n",
    "FROM borrowers\n",
    "INNER JOIN loans USING(borrowerID)\n",
    "INNER JOIN books USING(bookID)\n",
    "WHERE title = \"bok1\"\n"
   ]
  },
  {
   "cell_type": "markdown",
   "metadata": {},
   "source": [
    "**For each book that is loaned out from the branch \"A\" and whose due date is today, retrieve the book title, the borrower's name(s), and the borrower's address(es).**"
   ]
  },
  {
   "cell_type": "code",
   "execution_count": 234,
   "metadata": {},
   "outputs": [
    {
     "name": "stdout",
     "output_type": "stream",
     "text": [
      " * sqlite:///library.db\n",
      "Done.\n"
     ]
    },
    {
     "data": {
      "text/html": [
       "<table>\n",
       "    <thead>\n",
       "        <tr>\n",
       "            <th>title</th>\n",
       "            <th>name</th>\n",
       "            <th>address</th>\n",
       "        </tr>\n",
       "    </thead>\n",
       "    <tbody>\n",
       "        <tr>\n",
       "            <td>bok1</td>\n",
       "            <td>Sjur</td>\n",
       "            <td>Oslo</td>\n",
       "        </tr>\n",
       "    </tbody>\n",
       "</table>"
      ],
      "text/plain": [
       "[('bok1', 'Sjur', 'Oslo')]"
      ]
     },
     "execution_count": 234,
     "metadata": {},
     "output_type": "execute_result"
    }
   ],
   "source": [
    "%%sql\n",
    "SELECT books.title, borrowers.name, borrowers.address \n",
    "FROM books\n",
    "INNER JOIN loans USING(bookID)\n",
    "INNER JOIN borrowers USING(borrowerID)\n",
    "INNER JOIN branches USING(branchID)\n",
    "WHERE branches.name = \"A1\" AND loans.dueDate = \"2021-11-11\""
   ]
  },
  {
   "cell_type": "markdown",
   "metadata": {},
   "source": [
    "**For each branch, retrieve the branch name and the total number of books loaded out from that branch.**"
   ]
  },
  {
   "cell_type": "code",
   "execution_count": 235,
   "metadata": {},
   "outputs": [
    {
     "name": "stdout",
     "output_type": "stream",
     "text": [
      " * sqlite:///library.db\n",
      "Done.\n"
     ]
    },
    {
     "data": {
      "text/html": [
       "<table>\n",
       "    <thead>\n",
       "        <tr>\n",
       "            <th>name</th>\n",
       "            <th>COUNT(*)</th>\n",
       "        </tr>\n",
       "    </thead>\n",
       "    <tbody>\n",
       "        <tr>\n",
       "            <td>A1</td>\n",
       "            <td>3</td>\n",
       "        </tr>\n",
       "        <tr>\n",
       "            <td>A2</td>\n",
       "            <td>1</td>\n",
       "        </tr>\n",
       "        <tr>\n",
       "            <td>A3</td>\n",
       "            <td>2</td>\n",
       "        </tr>\n",
       "        <tr>\n",
       "            <td>A4</td>\n",
       "            <td>1</td>\n",
       "        </tr>\n",
       "        <tr>\n",
       "            <td>A6</td>\n",
       "            <td>1</td>\n",
       "        </tr>\n",
       "        <tr>\n",
       "            <td>A8</td>\n",
       "            <td>1</td>\n",
       "        </tr>\n",
       "        <tr>\n",
       "            <td>A9</td>\n",
       "            <td>1</td>\n",
       "        </tr>\n",
       "    </tbody>\n",
       "</table>"
      ],
      "text/plain": [
       "[('A1', 3), ('A2', 1), ('A3', 2), ('A4', 1), ('A6', 1), ('A8', 1), ('A9', 1)]"
      ]
     },
     "execution_count": 235,
     "metadata": {},
     "output_type": "execute_result"
    }
   ],
   "source": [
    "%%sql\n",
    "SELECT branches.name, COUNT(*)\n",
    "FROM loans, branches\n",
    "WHERE loans.branchID = branches.branchID\n",
    "GROUP BY branches.name\n"
   ]
  }
 ],
 "metadata": {
  "interpreter": {
   "hash": "4561bed6174ae65377ea82c13f9ae534e185ef7485e0038b4f78f251fb97e57e"
  },
  "kernelspec": {
   "display_name": "Python 3.8.8 64-bit ('base': conda)",
   "name": "python3"
  },
  "language_info": {
   "codemirror_mode": {
    "name": "ipython",
    "version": 3
   },
   "file_extension": ".py",
   "mimetype": "text/x-python",
   "name": "python",
   "nbconvert_exporter": "python",
   "pygments_lexer": "ipython3",
   "version": "3.8.8"
  },
  "orig_nbformat": 4
 },
 "nbformat": 4,
 "nbformat_minor": 2
}
